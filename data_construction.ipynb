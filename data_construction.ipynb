{
 "cells": [
  {
   "cell_type": "code",
   "execution_count": 47,
   "metadata": {
    "collapsed": true,
    "pycharm": {
     "name": "#%%\n"
    }
   },
   "outputs": [],
   "source": [
    "import pandas as pd\n",
    "import numpy as np\n",
    "\n",
    "\n",
    "path = '/Users/artemilin/Downloads/data'"
   ]
  },
  {
   "cell_type": "code",
   "execution_count": 48,
   "outputs": [],
   "source": [
    "companies_of_choice = ['AAPL.csv',  ## Apple\n",
    "                       'AMZN.csv',  ## Amazon\n",
    "                       'FB.csv',  ## Facebook (now META)\n",
    "                       'GOOGL.csv',  ## Google Alphabet Inc.\n",
    "                       'MSFT.csv',  ## Microsoft\n",
    "                       'NFLX.csv',  ## Netflix\n",
    "                       'NVDA.csv',  ## Nvidia\n",
    "                       'TSLA.csv'  ## Tesla\n",
    "                       ]"
   ],
   "metadata": {
    "collapsed": false,
    "pycharm": {
     "name": "#%%\n"
    }
   }
  },
  {
   "cell_type": "code",
   "execution_count": 49,
   "outputs": [],
   "source": [
    "all_dfs = []\n",
    "shapes_of_tickers_dfs = {}\n",
    "\n",
    "for ticker in companies_of_choice:\n",
    "    dirs = []\n",
    "    for year in ['2017', '2018', '2019', '2021']:\n",
    "        dirs.append(f'{path}/{year}/{ticker}')\n",
    "\n",
    "    df_ticker = pd.concat(\n",
    "        map(pd.read_csv, dirs), ignore_index=True)\n",
    "    #df_ticker['date'] = pd.to_datetime(df_ticker['date'])\n",
    "    shapes_of_tickers_dfs[ticker] = df_ticker.shape\n",
    "\n",
    "    all_dfs.append(df_ticker.add_prefix(f'{ticker.split(\".\")[0]}_'))\n",
    "\n",
    "df0 = pd.concat(all_dfs, axis=1)"
   ],
   "metadata": {
    "collapsed": false,
    "pycharm": {
     "name": "#%%\n"
    }
   }
  },
  {
   "cell_type": "code",
   "execution_count": 50,
   "outputs": [
    {
     "data": {
      "text/plain": "                   AAPL_date  AAPL_open  AAPL_high  AAPL_low  AAPL_close  \\\n0  2017-01-03 09:30:00-05:00    28.9500    28.9750   28.8750     28.9713   \n1  2017-01-03 09:31:00-05:00    28.9750    29.0625   28.9475     29.0622   \n2  2017-01-03 09:32:00-05:00    29.0625    29.0825   29.0575     29.0750   \n3  2017-01-03 09:33:00-05:00    29.0750    29.0750   29.0050     29.0276   \n4  2017-01-03 09:34:00-05:00    29.0273    29.0600   29.0273     29.0375   \n\n   AAPL_volume  AAPL_vwap  AAPL_timestamp  AAPL_transactions  AAPL_otc  ...  \\\n0    3851984.0    28.9422   1483453800000             1970.0       NaN  ...   \n1     997416.0    29.0088   1483453860000             1050.0       NaN  ...   \n2     653408.0    29.0686   1483453920000              700.0       NaN  ...   \n3    1005592.0    29.0285   1483453980000             1049.0       NaN  ...   \n4     667760.0    29.0412   1483454040000              929.0       NaN  ...   \n\n                   TSLA_date  TSLA_open  TSLA_high  TSLA_low  TSLA_close  \\\n0  2017-01-03 09:30:00-05:00    14.3240    14.3533   14.2800     14.2840   \n1  2017-01-03 09:31:00-05:00    14.2800    14.2987   14.2500     14.2500   \n2  2017-01-03 09:32:00-05:00    14.2500    14.2500   14.1720     14.1893   \n3  2017-01-03 09:33:00-05:00    14.1853    14.2020   14.0913     14.1000   \n4  2017-01-03 09:34:00-05:00    14.0933    14.1253   14.0640     14.1193   \n\n   TSLA_volume  TSLA_vwap  TSLA_timestamp  TSLA_transactions  TSLA_otc  \n0    1360425.0    14.3219    1.483454e+12              367.0       NaN  \n1     756270.0    14.2741    1.483454e+12              497.0       NaN  \n2     702690.0    14.2128    1.483454e+12              550.0       NaN  \n3    1084935.0    14.1462    1.483454e+12              599.0       NaN  \n4    1251645.0    14.0868    1.483454e+12              689.0       NaN  \n\n[5 rows x 80 columns]",
      "text/html": "<div>\n<style scoped>\n    .dataframe tbody tr th:only-of-type {\n        vertical-align: middle;\n    }\n\n    .dataframe tbody tr th {\n        vertical-align: top;\n    }\n\n    .dataframe thead th {\n        text-align: right;\n    }\n</style>\n<table border=\"1\" class=\"dataframe\">\n  <thead>\n    <tr style=\"text-align: right;\">\n      <th></th>\n      <th>AAPL_date</th>\n      <th>AAPL_open</th>\n      <th>AAPL_high</th>\n      <th>AAPL_low</th>\n      <th>AAPL_close</th>\n      <th>AAPL_volume</th>\n      <th>AAPL_vwap</th>\n      <th>AAPL_timestamp</th>\n      <th>AAPL_transactions</th>\n      <th>AAPL_otc</th>\n      <th>...</th>\n      <th>TSLA_date</th>\n      <th>TSLA_open</th>\n      <th>TSLA_high</th>\n      <th>TSLA_low</th>\n      <th>TSLA_close</th>\n      <th>TSLA_volume</th>\n      <th>TSLA_vwap</th>\n      <th>TSLA_timestamp</th>\n      <th>TSLA_transactions</th>\n      <th>TSLA_otc</th>\n    </tr>\n  </thead>\n  <tbody>\n    <tr>\n      <th>0</th>\n      <td>2017-01-03 09:30:00-05:00</td>\n      <td>28.9500</td>\n      <td>28.9750</td>\n      <td>28.8750</td>\n      <td>28.9713</td>\n      <td>3851984.0</td>\n      <td>28.9422</td>\n      <td>1483453800000</td>\n      <td>1970.0</td>\n      <td>NaN</td>\n      <td>...</td>\n      <td>2017-01-03 09:30:00-05:00</td>\n      <td>14.3240</td>\n      <td>14.3533</td>\n      <td>14.2800</td>\n      <td>14.2840</td>\n      <td>1360425.0</td>\n      <td>14.3219</td>\n      <td>1.483454e+12</td>\n      <td>367.0</td>\n      <td>NaN</td>\n    </tr>\n    <tr>\n      <th>1</th>\n      <td>2017-01-03 09:31:00-05:00</td>\n      <td>28.9750</td>\n      <td>29.0625</td>\n      <td>28.9475</td>\n      <td>29.0622</td>\n      <td>997416.0</td>\n      <td>29.0088</td>\n      <td>1483453860000</td>\n      <td>1050.0</td>\n      <td>NaN</td>\n      <td>...</td>\n      <td>2017-01-03 09:31:00-05:00</td>\n      <td>14.2800</td>\n      <td>14.2987</td>\n      <td>14.2500</td>\n      <td>14.2500</td>\n      <td>756270.0</td>\n      <td>14.2741</td>\n      <td>1.483454e+12</td>\n      <td>497.0</td>\n      <td>NaN</td>\n    </tr>\n    <tr>\n      <th>2</th>\n      <td>2017-01-03 09:32:00-05:00</td>\n      <td>29.0625</td>\n      <td>29.0825</td>\n      <td>29.0575</td>\n      <td>29.0750</td>\n      <td>653408.0</td>\n      <td>29.0686</td>\n      <td>1483453920000</td>\n      <td>700.0</td>\n      <td>NaN</td>\n      <td>...</td>\n      <td>2017-01-03 09:32:00-05:00</td>\n      <td>14.2500</td>\n      <td>14.2500</td>\n      <td>14.1720</td>\n      <td>14.1893</td>\n      <td>702690.0</td>\n      <td>14.2128</td>\n      <td>1.483454e+12</td>\n      <td>550.0</td>\n      <td>NaN</td>\n    </tr>\n    <tr>\n      <th>3</th>\n      <td>2017-01-03 09:33:00-05:00</td>\n      <td>29.0750</td>\n      <td>29.0750</td>\n      <td>29.0050</td>\n      <td>29.0276</td>\n      <td>1005592.0</td>\n      <td>29.0285</td>\n      <td>1483453980000</td>\n      <td>1049.0</td>\n      <td>NaN</td>\n      <td>...</td>\n      <td>2017-01-03 09:33:00-05:00</td>\n      <td>14.1853</td>\n      <td>14.2020</td>\n      <td>14.0913</td>\n      <td>14.1000</td>\n      <td>1084935.0</td>\n      <td>14.1462</td>\n      <td>1.483454e+12</td>\n      <td>599.0</td>\n      <td>NaN</td>\n    </tr>\n    <tr>\n      <th>4</th>\n      <td>2017-01-03 09:34:00-05:00</td>\n      <td>29.0273</td>\n      <td>29.0600</td>\n      <td>29.0273</td>\n      <td>29.0375</td>\n      <td>667760.0</td>\n      <td>29.0412</td>\n      <td>1483454040000</td>\n      <td>929.0</td>\n      <td>NaN</td>\n      <td>...</td>\n      <td>2017-01-03 09:34:00-05:00</td>\n      <td>14.0933</td>\n      <td>14.1253</td>\n      <td>14.0640</td>\n      <td>14.1193</td>\n      <td>1251645.0</td>\n      <td>14.0868</td>\n      <td>1.483454e+12</td>\n      <td>689.0</td>\n      <td>NaN</td>\n    </tr>\n  </tbody>\n</table>\n<p>5 rows × 80 columns</p>\n</div>"
     },
     "execution_count": 50,
     "metadata": {},
     "output_type": "execute_result"
    }
   ],
   "source": [
    "df0.head()"
   ],
   "metadata": {
    "collapsed": false,
    "pycharm": {
     "name": "#%%\n"
    }
   }
  },
  {
   "cell_type": "code",
   "execution_count": 51,
   "outputs": [],
   "source": [
    "df_AAPL = df0[['AAPL_date', 'AAPL_open', 'AAPL_high', 'AAPL_low', 'AAPL_close', 'AAPL_volume', 'AAPL_vwap',\n",
    "              'AAPL_transactions']]  # 'AAPL_timestamp',\n",
    "\n",
    "df_AAPL = df_AAPL.rename(columns={\"AAPL_date\": \"date\",\n",
    "                                  \"AAPL_open\": \"open\",\n",
    "                                  \"AAPL_high\": \"high\",\n",
    "                                  \"AAPL_low\": \"low\",\n",
    "                                  \"AAPL_close\": \"close\",\n",
    "                                  \"AAPL_volume\": \"volume\",\n",
    "                                  \"AAPL_vwap\": \"vwap\",\n",
    "                                  \"AAPL_transactions\": \"transactions\"\n",
    "                                  })\n",
    "\n",
    "df_AAPL['date'] = pd.to_datetime(df_AAPL['date'], format=\"%Y-%m-%d %H:%M:%S\", utc=True)\n",
    "df_AAPL = df_AAPL.set_index(pd.DatetimeIndex(df_AAPL['date']))"
   ],
   "metadata": {
    "collapsed": false,
    "pycharm": {
     "name": "#%%\n"
    }
   }
  },
  {
   "cell_type": "code",
   "execution_count": 52,
   "outputs": [],
   "source": [
    "day_df = df_AAPL.resample('1D').agg({'open': 'first', 'high': 'max', 'low': 'min', 'close': 'last', 'volume': 'sum'})\n",
    "day_df = day_df[~day_df['close'].isna()]"
   ],
   "metadata": {
    "collapsed": false,
    "pycharm": {
     "name": "#%%\n"
    }
   }
  },
  {
   "cell_type": "code",
   "execution_count": 53,
   "outputs": [
    {
     "data": {
      "text/plain": "                              open     high      low    close       volume\ndate                                                                      \n2017-01-03 00:00:00+00:00  28.9500  29.0825  28.6900  29.0225  102572716.0\n2017-01-04 00:00:00+00:00  28.9625  29.1275  28.9375  29.0025   74946512.0\n2017-01-05 00:00:00+00:00  28.9800  29.2161  28.9525  29.1525   83368768.0\n2017-01-06 00:00:00+00:00  29.1950  29.5400  29.1175  29.4925  116451676.0\n2017-01-09 00:00:00+00:00  29.4875  29.8575  29.4850  29.7450  122837968.0",
      "text/html": "<div>\n<style scoped>\n    .dataframe tbody tr th:only-of-type {\n        vertical-align: middle;\n    }\n\n    .dataframe tbody tr th {\n        vertical-align: top;\n    }\n\n    .dataframe thead th {\n        text-align: right;\n    }\n</style>\n<table border=\"1\" class=\"dataframe\">\n  <thead>\n    <tr style=\"text-align: right;\">\n      <th></th>\n      <th>open</th>\n      <th>high</th>\n      <th>low</th>\n      <th>close</th>\n      <th>volume</th>\n    </tr>\n    <tr>\n      <th>date</th>\n      <th></th>\n      <th></th>\n      <th></th>\n      <th></th>\n      <th></th>\n    </tr>\n  </thead>\n  <tbody>\n    <tr>\n      <th>2017-01-03 00:00:00+00:00</th>\n      <td>28.9500</td>\n      <td>29.0825</td>\n      <td>28.6900</td>\n      <td>29.0225</td>\n      <td>102572716.0</td>\n    </tr>\n    <tr>\n      <th>2017-01-04 00:00:00+00:00</th>\n      <td>28.9625</td>\n      <td>29.1275</td>\n      <td>28.9375</td>\n      <td>29.0025</td>\n      <td>74946512.0</td>\n    </tr>\n    <tr>\n      <th>2017-01-05 00:00:00+00:00</th>\n      <td>28.9800</td>\n      <td>29.2161</td>\n      <td>28.9525</td>\n      <td>29.1525</td>\n      <td>83368768.0</td>\n    </tr>\n    <tr>\n      <th>2017-01-06 00:00:00+00:00</th>\n      <td>29.1950</td>\n      <td>29.5400</td>\n      <td>29.1175</td>\n      <td>29.4925</td>\n      <td>116451676.0</td>\n    </tr>\n    <tr>\n      <th>2017-01-09 00:00:00+00:00</th>\n      <td>29.4875</td>\n      <td>29.8575</td>\n      <td>29.4850</td>\n      <td>29.7450</td>\n      <td>122837968.0</td>\n    </tr>\n  </tbody>\n</table>\n</div>"
     },
     "execution_count": 53,
     "metadata": {},
     "output_type": "execute_result"
    }
   ],
   "source": [
    "day_df.head()"
   ],
   "metadata": {
    "collapsed": false,
    "pycharm": {
     "name": "#%%\n"
    }
   }
  },
  {
   "cell_type": "code",
   "execution_count": 54,
   "outputs": [],
   "source": [
    "df_AAPL['log_price'] = np.log(df_AAPL['close'])\n",
    "df_AAPL[\"rets\"] = df_AAPL[\"close\"].pct_change()\n",
    "\n",
    "vols = df_AAPL[\"rets\"].rolling(60).std(ddof=0)\n",
    "\n",
    "df_AAPL['r_vol'] = pd.DataFrame(vols)\n",
    "df_AAPL['r_vol'].fillna((df_AAPL['r_vol'].mean()), inplace=True)\n",
    "df_AAPL = df_AAPL.iloc[1:]"
   ],
   "metadata": {
    "collapsed": false,
    "pycharm": {
     "name": "#%%\n"
    }
   }
  },
  {
   "cell_type": "code",
   "execution_count": 55,
   "outputs": [],
   "source": [
    "def drawdown(return_series: pd.Series):\n",
    "    \"\"\"Takes a time series of asset returns.\n",
    "       returns a DataFrame with columns for\n",
    "       the wealth index,\n",
    "       the previous peaks, and\n",
    "       the percentage drawdown\n",
    "    \"\"\"\n",
    "    wealth_index = 1000*(1+return_series/100).cumprod()\n",
    "    previous_peaks = np.log(wealth_index.cummax())\n",
    "    drawdowns = (wealth_index - previous_peaks)/previous_peaks\n",
    "    return pd.DataFrame({\"Wealth\": wealth_index,\n",
    "                         \"Previous Peak\": previous_peaks,\n",
    "                         \"Drawdown\": drawdowns})"
   ],
   "metadata": {
    "collapsed": false,
    "pycharm": {
     "name": "#%%\n"
    }
   }
  },
  {
   "cell_type": "code",
   "execution_count": 56,
   "outputs": [
    {
     "data": {
      "text/plain": "                                               date     open     high  \\\ndate                                                                    \n2017-01-03 14:31:00+00:00 2017-01-03 14:31:00+00:00  28.9750  29.0625   \n2017-01-03 14:32:00+00:00 2017-01-03 14:32:00+00:00  29.0625  29.0825   \n2017-01-03 14:33:00+00:00 2017-01-03 14:33:00+00:00  29.0750  29.0750   \n2017-01-03 14:34:00+00:00 2017-01-03 14:34:00+00:00  29.0273  29.0600   \n2017-01-03 14:35:00+00:00 2017-01-03 14:35:00+00:00  29.0375  29.0625   \n\n                               low    close     volume     vwap  transactions  \\\ndate                                                                            \n2017-01-03 14:31:00+00:00  28.9475  29.0622   997416.0  29.0088        1050.0   \n2017-01-03 14:32:00+00:00  29.0575  29.0750   653408.0  29.0686         700.0   \n2017-01-03 14:33:00+00:00  29.0050  29.0276  1005592.0  29.0285        1049.0   \n2017-01-03 14:34:00+00:00  29.0273  29.0375   667760.0  29.0412         929.0   \n2017-01-03 14:35:00+00:00  29.0200  29.0375   779004.0  29.0435        1434.0   \n\n                           log_price      rets     r_vol  \ndate                                                      \n2017-01-03 14:31:00+00:00   3.369438  0.003138  0.000677  \n2017-01-03 14:32:00+00:00   3.369879  0.000440  0.000677  \n2017-01-03 14:33:00+00:00   3.368247 -0.001630  0.000677  \n2017-01-03 14:34:00+00:00   3.368588  0.000341  0.000677  \n2017-01-03 14:35:00+00:00   3.368588  0.000000  0.000677  ",
      "text/html": "<div>\n<style scoped>\n    .dataframe tbody tr th:only-of-type {\n        vertical-align: middle;\n    }\n\n    .dataframe tbody tr th {\n        vertical-align: top;\n    }\n\n    .dataframe thead th {\n        text-align: right;\n    }\n</style>\n<table border=\"1\" class=\"dataframe\">\n  <thead>\n    <tr style=\"text-align: right;\">\n      <th></th>\n      <th>date</th>\n      <th>open</th>\n      <th>high</th>\n      <th>low</th>\n      <th>close</th>\n      <th>volume</th>\n      <th>vwap</th>\n      <th>transactions</th>\n      <th>log_price</th>\n      <th>rets</th>\n      <th>r_vol</th>\n    </tr>\n    <tr>\n      <th>date</th>\n      <th></th>\n      <th></th>\n      <th></th>\n      <th></th>\n      <th></th>\n      <th></th>\n      <th></th>\n      <th></th>\n      <th></th>\n      <th></th>\n      <th></th>\n    </tr>\n  </thead>\n  <tbody>\n    <tr>\n      <th>2017-01-03 14:31:00+00:00</th>\n      <td>2017-01-03 14:31:00+00:00</td>\n      <td>28.9750</td>\n      <td>29.0625</td>\n      <td>28.9475</td>\n      <td>29.0622</td>\n      <td>997416.0</td>\n      <td>29.0088</td>\n      <td>1050.0</td>\n      <td>3.369438</td>\n      <td>0.003138</td>\n      <td>0.000677</td>\n    </tr>\n    <tr>\n      <th>2017-01-03 14:32:00+00:00</th>\n      <td>2017-01-03 14:32:00+00:00</td>\n      <td>29.0625</td>\n      <td>29.0825</td>\n      <td>29.0575</td>\n      <td>29.0750</td>\n      <td>653408.0</td>\n      <td>29.0686</td>\n      <td>700.0</td>\n      <td>3.369879</td>\n      <td>0.000440</td>\n      <td>0.000677</td>\n    </tr>\n    <tr>\n      <th>2017-01-03 14:33:00+00:00</th>\n      <td>2017-01-03 14:33:00+00:00</td>\n      <td>29.0750</td>\n      <td>29.0750</td>\n      <td>29.0050</td>\n      <td>29.0276</td>\n      <td>1005592.0</td>\n      <td>29.0285</td>\n      <td>1049.0</td>\n      <td>3.368247</td>\n      <td>-0.001630</td>\n      <td>0.000677</td>\n    </tr>\n    <tr>\n      <th>2017-01-03 14:34:00+00:00</th>\n      <td>2017-01-03 14:34:00+00:00</td>\n      <td>29.0273</td>\n      <td>29.0600</td>\n      <td>29.0273</td>\n      <td>29.0375</td>\n      <td>667760.0</td>\n      <td>29.0412</td>\n      <td>929.0</td>\n      <td>3.368588</td>\n      <td>0.000341</td>\n      <td>0.000677</td>\n    </tr>\n    <tr>\n      <th>2017-01-03 14:35:00+00:00</th>\n      <td>2017-01-03 14:35:00+00:00</td>\n      <td>29.0375</td>\n      <td>29.0625</td>\n      <td>29.0200</td>\n      <td>29.0375</td>\n      <td>779004.0</td>\n      <td>29.0435</td>\n      <td>1434.0</td>\n      <td>3.368588</td>\n      <td>0.000000</td>\n      <td>0.000677</td>\n    </tr>\n  </tbody>\n</table>\n</div>"
     },
     "execution_count": 56,
     "metadata": {},
     "output_type": "execute_result"
    }
   ],
   "source": [
    "df_AAPL.head()"
   ],
   "metadata": {
    "collapsed": false,
    "pycharm": {
     "name": "#%%\n"
    }
   }
  },
  {
   "cell_type": "code",
   "execution_count": 57,
   "outputs": [],
   "source": [
    "df_AAPL = df_AAPL.dropna()\n",
    "df_AAPL[\"OBV\"] = (np.sign(df_AAPL[\"close\"].diff()) * df_AAPL[\"volume\"]).fillna(0).cumsum()"
   ],
   "metadata": {
    "collapsed": false,
    "pycharm": {
     "name": "#%%\n"
    }
   }
  },
  {
   "cell_type": "code",
   "execution_count": 58,
   "outputs": [],
   "source": [
    "exp1 = df_AAPL['close'].ewm(span=12, adjust=False).mean()\n",
    "exp2 = df_AAPL['close'].ewm(span=26, adjust=False).mean()\n",
    "macd = exp1 - exp2\n",
    "df_AAPL['MACD'] = macd"
   ],
   "metadata": {
    "collapsed": false,
    "pycharm": {
     "name": "#%%\n"
    }
   }
  },
  {
   "cell_type": "code",
   "execution_count": 59,
   "outputs": [],
   "source": [
    "def compute_volume_bars(df, volume_bar_size):\n",
    "    cumsum_vol = df['volume'].cumsum()/volume_bar_size\n",
    "    max_tick = int(cumsum_vol.max())\n",
    "    ticks = pd.Series(range(max_tick))\n",
    "    return cumsum_vol.searchsorted(ticks)"
   ],
   "metadata": {
    "collapsed": false,
    "pycharm": {
     "name": "#%%\n"
    }
   }
  },
  {
   "cell_type": "code",
   "execution_count": 60,
   "outputs": [],
   "source": [
    "def compute_dollar_bars(df, dollar_bar_size):\n",
    "    '''\n",
    "        Compute indexes of dollar bars, indexes represented as integers,\n",
    "        data can be fetched by df.iloc[idxs]\n",
    "    '''\n",
    "    if 'vwap' in df.columns:\n",
    "        dollars = df['volume'] * df['vwap']\n",
    "    else:\n",
    "        dollars = (df['close'] + df['open'])/2 * df['volume']\n",
    "    dollars = dollars.cumsum()/dollar_bar_size\n",
    "    max_tick = int(dollars.max())\n",
    "    ticks = pd.Series(range(max_tick))\n",
    "    return dollars.searchsorted(ticks)"
   ],
   "metadata": {
    "collapsed": false,
    "pycharm": {
     "name": "#%%\n"
    }
   }
  },
  {
   "cell_type": "code",
   "execution_count": 61,
   "outputs": [],
   "source": [
    "def rsi(df, periods = 14, ema = True):\n",
    "    \"\"\"\n",
    "    Returns a pd.Series with the relative strength index.\n",
    "    \"\"\"\n",
    "    close_delta = df['close'].diff()\n",
    "\n",
    "    # Make two series: one for lower closes and one for higher closes\n",
    "    up = close_delta.clip(lower=0)\n",
    "    down = -1 * close_delta.clip(upper=0)\n",
    "\n",
    "    if ema == True:\n",
    "\t    # Use exponential moving average\n",
    "        ma_up = up.ewm(com = periods - 1, adjust=True, min_periods = periods).mean()\n",
    "        ma_down = down.ewm(com = periods - 1, adjust=True, min_periods = periods).mean()\n",
    "    else:\n",
    "        # Use simple moving average\n",
    "        ma_up = up.rolling(window = periods, adjust=False).mean()\n",
    "        ma_down = down.rolling(window = periods, adjust=False).mean()\n",
    "\n",
    "    rsi = ma_up / ma_down\n",
    "    rsi = 100 - (100/(1 + rsi))\n",
    "    return rsi"
   ],
   "metadata": {
    "collapsed": false,
    "pycharm": {
     "name": "#%%\n"
    }
   }
  },
  {
   "cell_type": "code",
   "execution_count": 62,
   "outputs": [],
   "source": [
    "df_AAPL['rsi'] = rsi(df_AAPL, periods=60, ema=True)\n",
    "df_AAPL = df_AAPL.apply(lambda x: x.fillna(x.mean()), axis=0)"
   ],
   "metadata": {
    "collapsed": false,
    "pycharm": {
     "name": "#%%\n"
    }
   }
  },
  {
   "cell_type": "code",
   "execution_count": 63,
   "outputs": [],
   "source": [
    "def bollinger_bands(df, n=60, m=60):\n",
    "    # takes dataframe on input\n",
    "    # n = smoothing length\n",
    "    # m = number of standard deviations away from MA\n",
    "\n",
    "    #typical price\n",
    "    TP = (df['high'] + df['low'] + df['close']) / 3\n",
    "    # but we will use Adj close instead for now, depends\n",
    "\n",
    "    data = TP\n",
    "    #data = df['Adj Close']\n",
    "\n",
    "    # takes one column from dataframe\n",
    "    B_MA = pd.Series((data.rolling(n, min_periods=n).mean()), name='B_MA')\n",
    "    sigma = data.rolling(n, min_periods=n).std()\n",
    "\n",
    "    BU = pd.Series((B_MA + m * sigma), name='BU')\n",
    "    BL = pd.Series((B_MA - m * sigma), name='BL')\n",
    "\n",
    "    df = df.join(B_MA)\n",
    "    df = df.join(BU)\n",
    "    df = df.join(BL)\n",
    "\n",
    "    return df"
   ],
   "metadata": {
    "collapsed": false,
    "pycharm": {
     "name": "#%%\n"
    }
   }
  },
  {
   "cell_type": "code",
   "execution_count": 64,
   "outputs": [
    {
     "data": {
      "text/plain": "                                               date     open     high  \\\ndate                                                                    \n2017-01-03 14:31:00+00:00 2017-01-03 14:31:00+00:00  28.9750  29.0625   \n2017-01-03 14:32:00+00:00 2017-01-03 14:32:00+00:00  29.0625  29.0825   \n2017-01-03 14:33:00+00:00 2017-01-03 14:33:00+00:00  29.0750  29.0750   \n2017-01-03 14:34:00+00:00 2017-01-03 14:34:00+00:00  29.0273  29.0600   \n2017-01-03 14:35:00+00:00 2017-01-03 14:35:00+00:00  29.0375  29.0625   \n\n                               low    close     volume     vwap  transactions  \\\ndate                                                                            \n2017-01-03 14:31:00+00:00  28.9475  29.0622   997416.0  29.0088        1050.0   \n2017-01-03 14:32:00+00:00  29.0575  29.0750   653408.0  29.0686         700.0   \n2017-01-03 14:33:00+00:00  29.0050  29.0276  1005592.0  29.0285        1049.0   \n2017-01-03 14:34:00+00:00  29.0273  29.0375   667760.0  29.0412         929.0   \n2017-01-03 14:35:00+00:00  29.0200  29.0375   779004.0  29.0435        1434.0   \n\n                           log_price      rets     r_vol       OBV      MACD  \\\ndate                                                                           \n2017-01-03 14:31:00+00:00   3.369438  0.003138  0.000677       0.0  0.000000   \n2017-01-03 14:32:00+00:00   3.369879  0.000440  0.000677  653408.0  0.001021   \n2017-01-03 14:33:00+00:00   3.368247 -0.001630  0.000677 -352184.0 -0.001972   \n2017-01-03 14:34:00+00:00   3.368588  0.000341  0.000677  315576.0 -0.003504   \n2017-01-03 14:35:00+00:00   3.368588  0.000000  0.000677  315576.0 -0.004665   \n\n                                 rsi       B_MA         BU        BL  \ndate                                                                  \n2017-01-03 14:31:00+00:00  50.775145  57.951917  65.468024  50.43581  \n2017-01-03 14:32:00+00:00  50.775145  57.951917  65.468024  50.43581  \n2017-01-03 14:33:00+00:00  50.775145  57.951917  65.468024  50.43581  \n2017-01-03 14:34:00+00:00  50.775145  57.951917  65.468024  50.43581  \n2017-01-03 14:35:00+00:00  50.775145  57.951917  65.468024  50.43581  ",
      "text/html": "<div>\n<style scoped>\n    .dataframe tbody tr th:only-of-type {\n        vertical-align: middle;\n    }\n\n    .dataframe tbody tr th {\n        vertical-align: top;\n    }\n\n    .dataframe thead th {\n        text-align: right;\n    }\n</style>\n<table border=\"1\" class=\"dataframe\">\n  <thead>\n    <tr style=\"text-align: right;\">\n      <th></th>\n      <th>date</th>\n      <th>open</th>\n      <th>high</th>\n      <th>low</th>\n      <th>close</th>\n      <th>volume</th>\n      <th>vwap</th>\n      <th>transactions</th>\n      <th>log_price</th>\n      <th>rets</th>\n      <th>r_vol</th>\n      <th>OBV</th>\n      <th>MACD</th>\n      <th>rsi</th>\n      <th>B_MA</th>\n      <th>BU</th>\n      <th>BL</th>\n    </tr>\n    <tr>\n      <th>date</th>\n      <th></th>\n      <th></th>\n      <th></th>\n      <th></th>\n      <th></th>\n      <th></th>\n      <th></th>\n      <th></th>\n      <th></th>\n      <th></th>\n      <th></th>\n      <th></th>\n      <th></th>\n      <th></th>\n      <th></th>\n      <th></th>\n      <th></th>\n    </tr>\n  </thead>\n  <tbody>\n    <tr>\n      <th>2017-01-03 14:31:00+00:00</th>\n      <td>2017-01-03 14:31:00+00:00</td>\n      <td>28.9750</td>\n      <td>29.0625</td>\n      <td>28.9475</td>\n      <td>29.0622</td>\n      <td>997416.0</td>\n      <td>29.0088</td>\n      <td>1050.0</td>\n      <td>3.369438</td>\n      <td>0.003138</td>\n      <td>0.000677</td>\n      <td>0.0</td>\n      <td>0.000000</td>\n      <td>50.775145</td>\n      <td>57.951917</td>\n      <td>65.468024</td>\n      <td>50.43581</td>\n    </tr>\n    <tr>\n      <th>2017-01-03 14:32:00+00:00</th>\n      <td>2017-01-03 14:32:00+00:00</td>\n      <td>29.0625</td>\n      <td>29.0825</td>\n      <td>29.0575</td>\n      <td>29.0750</td>\n      <td>653408.0</td>\n      <td>29.0686</td>\n      <td>700.0</td>\n      <td>3.369879</td>\n      <td>0.000440</td>\n      <td>0.000677</td>\n      <td>653408.0</td>\n      <td>0.001021</td>\n      <td>50.775145</td>\n      <td>57.951917</td>\n      <td>65.468024</td>\n      <td>50.43581</td>\n    </tr>\n    <tr>\n      <th>2017-01-03 14:33:00+00:00</th>\n      <td>2017-01-03 14:33:00+00:00</td>\n      <td>29.0750</td>\n      <td>29.0750</td>\n      <td>29.0050</td>\n      <td>29.0276</td>\n      <td>1005592.0</td>\n      <td>29.0285</td>\n      <td>1049.0</td>\n      <td>3.368247</td>\n      <td>-0.001630</td>\n      <td>0.000677</td>\n      <td>-352184.0</td>\n      <td>-0.001972</td>\n      <td>50.775145</td>\n      <td>57.951917</td>\n      <td>65.468024</td>\n      <td>50.43581</td>\n    </tr>\n    <tr>\n      <th>2017-01-03 14:34:00+00:00</th>\n      <td>2017-01-03 14:34:00+00:00</td>\n      <td>29.0273</td>\n      <td>29.0600</td>\n      <td>29.0273</td>\n      <td>29.0375</td>\n      <td>667760.0</td>\n      <td>29.0412</td>\n      <td>929.0</td>\n      <td>3.368588</td>\n      <td>0.000341</td>\n      <td>0.000677</td>\n      <td>315576.0</td>\n      <td>-0.003504</td>\n      <td>50.775145</td>\n      <td>57.951917</td>\n      <td>65.468024</td>\n      <td>50.43581</td>\n    </tr>\n    <tr>\n      <th>2017-01-03 14:35:00+00:00</th>\n      <td>2017-01-03 14:35:00+00:00</td>\n      <td>29.0375</td>\n      <td>29.0625</td>\n      <td>29.0200</td>\n      <td>29.0375</td>\n      <td>779004.0</td>\n      <td>29.0435</td>\n      <td>1434.0</td>\n      <td>3.368588</td>\n      <td>0.000000</td>\n      <td>0.000677</td>\n      <td>315576.0</td>\n      <td>-0.004665</td>\n      <td>50.775145</td>\n      <td>57.951917</td>\n      <td>65.468024</td>\n      <td>50.43581</td>\n    </tr>\n  </tbody>\n</table>\n</div>"
     },
     "execution_count": 64,
     "metadata": {},
     "output_type": "execute_result"
    }
   ],
   "source": [
    "df_AAPL = bollinger_bands(df_AAPL)\n",
    "df_AAPL = df_AAPL.apply(lambda x: x.fillna(x.mean()), axis=0)\n",
    "df_AAPL.head()"
   ],
   "metadata": {
    "collapsed": false,
    "pycharm": {
     "name": "#%%\n"
    }
   }
  },
  {
   "cell_type": "code",
   "execution_count": 65,
   "outputs": [],
   "source": [
    "# df_AAPL.to_csv('AAPLFeatures.csv', index=False)"
   ],
   "metadata": {
    "collapsed": false,
    "pycharm": {
     "name": "#%%\n"
    }
   }
  },
  {
   "cell_type": "code",
   "execution_count": 66,
   "outputs": [
    {
     "data": {
      "text/plain": "(579602, 17)"
     },
     "execution_count": 66,
     "metadata": {},
     "output_type": "execute_result"
    }
   ],
   "source": [
    "df_AAPL.shape"
   ],
   "metadata": {
    "collapsed": false,
    "pycharm": {
     "name": "#%%\n"
    }
   }
  },
  {
   "cell_type": "code",
   "execution_count": 67,
   "outputs": [],
   "source": [
    "Apple_mini_20170103_20170203 = df_AAPL[\"2017-01-03\":\"2017-02-03\"]"
   ],
   "metadata": {
    "collapsed": false,
    "pycharm": {
     "name": "#%%\n"
    }
   }
  },
  {
   "cell_type": "code",
   "execution_count": 68,
   "outputs": [],
   "source": [
    "Apple_mini_20170103_20170203.to_csv('Apple_mini_20170103_20170203.csv', index=False)"
   ],
   "metadata": {
    "collapsed": false,
    "pycharm": {
     "name": "#%%\n"
    }
   }
  }
 ],
 "metadata": {
  "kernelspec": {
   "display_name": "Python 3",
   "language": "python",
   "name": "python3"
  },
  "language_info": {
   "codemirror_mode": {
    "name": "ipython",
    "version": 2
   },
   "file_extension": ".py",
   "mimetype": "text/x-python",
   "name": "python",
   "nbconvert_exporter": "python",
   "pygments_lexer": "ipython2",
   "version": "2.7.6"
  }
 },
 "nbformat": 4,
 "nbformat_minor": 0
}