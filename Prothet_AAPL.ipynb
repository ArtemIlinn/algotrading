{
 "cells": [
  {
   "cell_type": "code",
   "execution_count": 2,
   "outputs": [],
   "source": [
    "import os\n",
    "import pandas as pd\n",
    "import numpy as np\n",
    "import seaborn as sns\n",
    "import matplotlib.pyplot as plt\n",
    "import tensorflow as tf\n",
    "from tensorflow import keras\n",
    "from tensorflow.keras import layers\n",
    "from sklearn.preprocessing import MinMaxScaler\n",
    "import math\n",
    "from datetime import datetime\n",
    "from datetime import timedelta\n",
    "import pytz\n",
    "\n",
    "path = '/Users/artemilin/Downloads/data'"
   ],
   "metadata": {
    "collapsed": false,
    "pycharm": {
     "name": "#%%\n"
    }
   }
  },
  {
   "cell_type": "code",
   "execution_count": 3,
   "outputs": [],
   "source": [
    "companies_of_choice = ['AAPL.csv',  ## Apple\n",
    "                       'AMZN.csv',  ## Amazon\n",
    "                       'FB.csv',  ## Facebook (now META)\n",
    "                       'GOOGL.csv',  ## Google Alphabet Inc.\n",
    "                       'MSFT.csv',  ## Microsoft\n",
    "                       'NFLX.csv',  ## Netflix\n",
    "                       'NVDA.csv',  ## Nvidia\n",
    "                       'TSLA.csv'  ## Tesla\n",
    "                       ]"
   ],
   "metadata": {
    "collapsed": false,
    "pycharm": {
     "name": "#%%\n"
    }
   }
  },
  {
   "cell_type": "code",
   "execution_count": 4,
   "outputs": [],
   "source": [
    "all_dfs = []\n",
    "shapes_of_tickers_dfs = {}\n",
    "\n",
    "for ticker in companies_of_choice:\n",
    "    dirs = []\n",
    "    for year in ['2017', '2018', '2019', '2021']:\n",
    "        dirs.append(f'{path}/{year}/{ticker}')\n",
    "\n",
    "    df_ticker = pd.concat(\n",
    "        map(pd.read_csv, dirs), ignore_index=True)\n",
    "    #df_ticker['date'] = pd.to_datetime(df_ticker['date'])\n",
    "    shapes_of_tickers_dfs[ticker] = df_ticker.shape\n",
    "\n",
    "    all_dfs.append(df_ticker.add_prefix(f'{ticker.split(\".\")[0]}_'))\n",
    "\n",
    "df0 = pd.concat(all_dfs, axis=1)"
   ],
   "metadata": {
    "collapsed": false,
    "pycharm": {
     "name": "#%%\n"
    }
   }
  },
  {
   "cell_type": "code",
   "execution_count": 83,
   "outputs": [
    {
     "data": {
      "text/plain": "                   AAPL_date  AAPL_open  AAPL_high  AAPL_low  AAPL_close  \\\n0  2017-01-03 09:30:00-05:00    28.9500    28.9750   28.8750     28.9713   \n1  2017-01-03 09:31:00-05:00    28.9750    29.0625   28.9475     29.0622   \n2  2017-01-03 09:32:00-05:00    29.0625    29.0825   29.0575     29.0750   \n3  2017-01-03 09:33:00-05:00    29.0750    29.0750   29.0050     29.0276   \n4  2017-01-03 09:34:00-05:00    29.0273    29.0600   29.0273     29.0375   \n\n   AAPL_volume  AAPL_vwap  AAPL_timestamp  AAPL_transactions  AAPL_otc  ...  \\\n0    3851984.0    28.9422   1483453800000             1970.0       NaN  ...   \n1     997416.0    29.0088   1483453860000             1050.0       NaN  ...   \n2     653408.0    29.0686   1483453920000              700.0       NaN  ...   \n3    1005592.0    29.0285   1483453980000             1049.0       NaN  ...   \n4     667760.0    29.0412   1483454040000              929.0       NaN  ...   \n\n                   TSLA_date  TSLA_open  TSLA_high  TSLA_low  TSLA_close  \\\n0  2017-01-03 09:30:00-05:00    14.3240    14.3533   14.2800     14.2840   \n1  2017-01-03 09:31:00-05:00    14.2800    14.2987   14.2500     14.2500   \n2  2017-01-03 09:32:00-05:00    14.2500    14.2500   14.1720     14.1893   \n3  2017-01-03 09:33:00-05:00    14.1853    14.2020   14.0913     14.1000   \n4  2017-01-03 09:34:00-05:00    14.0933    14.1253   14.0640     14.1193   \n\n   TSLA_volume  TSLA_vwap  TSLA_timestamp  TSLA_transactions  TSLA_otc  \n0    1360425.0    14.3219    1.483454e+12              367.0       NaN  \n1     756270.0    14.2741    1.483454e+12              497.0       NaN  \n2     702690.0    14.2128    1.483454e+12              550.0       NaN  \n3    1084935.0    14.1462    1.483454e+12              599.0       NaN  \n4    1251645.0    14.0868    1.483454e+12              689.0       NaN  \n\n[5 rows x 80 columns]",
      "text/html": "<div>\n<style scoped>\n    .dataframe tbody tr th:only-of-type {\n        vertical-align: middle;\n    }\n\n    .dataframe tbody tr th {\n        vertical-align: top;\n    }\n\n    .dataframe thead th {\n        text-align: right;\n    }\n</style>\n<table border=\"1\" class=\"dataframe\">\n  <thead>\n    <tr style=\"text-align: right;\">\n      <th></th>\n      <th>AAPL_date</th>\n      <th>AAPL_open</th>\n      <th>AAPL_high</th>\n      <th>AAPL_low</th>\n      <th>AAPL_close</th>\n      <th>AAPL_volume</th>\n      <th>AAPL_vwap</th>\n      <th>AAPL_timestamp</th>\n      <th>AAPL_transactions</th>\n      <th>AAPL_otc</th>\n      <th>...</th>\n      <th>TSLA_date</th>\n      <th>TSLA_open</th>\n      <th>TSLA_high</th>\n      <th>TSLA_low</th>\n      <th>TSLA_close</th>\n      <th>TSLA_volume</th>\n      <th>TSLA_vwap</th>\n      <th>TSLA_timestamp</th>\n      <th>TSLA_transactions</th>\n      <th>TSLA_otc</th>\n    </tr>\n  </thead>\n  <tbody>\n    <tr>\n      <th>0</th>\n      <td>2017-01-03 09:30:00-05:00</td>\n      <td>28.9500</td>\n      <td>28.9750</td>\n      <td>28.8750</td>\n      <td>28.9713</td>\n      <td>3851984.0</td>\n      <td>28.9422</td>\n      <td>1483453800000</td>\n      <td>1970.0</td>\n      <td>NaN</td>\n      <td>...</td>\n      <td>2017-01-03 09:30:00-05:00</td>\n      <td>14.3240</td>\n      <td>14.3533</td>\n      <td>14.2800</td>\n      <td>14.2840</td>\n      <td>1360425.0</td>\n      <td>14.3219</td>\n      <td>1.483454e+12</td>\n      <td>367.0</td>\n      <td>NaN</td>\n    </tr>\n    <tr>\n      <th>1</th>\n      <td>2017-01-03 09:31:00-05:00</td>\n      <td>28.9750</td>\n      <td>29.0625</td>\n      <td>28.9475</td>\n      <td>29.0622</td>\n      <td>997416.0</td>\n      <td>29.0088</td>\n      <td>1483453860000</td>\n      <td>1050.0</td>\n      <td>NaN</td>\n      <td>...</td>\n      <td>2017-01-03 09:31:00-05:00</td>\n      <td>14.2800</td>\n      <td>14.2987</td>\n      <td>14.2500</td>\n      <td>14.2500</td>\n      <td>756270.0</td>\n      <td>14.2741</td>\n      <td>1.483454e+12</td>\n      <td>497.0</td>\n      <td>NaN</td>\n    </tr>\n    <tr>\n      <th>2</th>\n      <td>2017-01-03 09:32:00-05:00</td>\n      <td>29.0625</td>\n      <td>29.0825</td>\n      <td>29.0575</td>\n      <td>29.0750</td>\n      <td>653408.0</td>\n      <td>29.0686</td>\n      <td>1483453920000</td>\n      <td>700.0</td>\n      <td>NaN</td>\n      <td>...</td>\n      <td>2017-01-03 09:32:00-05:00</td>\n      <td>14.2500</td>\n      <td>14.2500</td>\n      <td>14.1720</td>\n      <td>14.1893</td>\n      <td>702690.0</td>\n      <td>14.2128</td>\n      <td>1.483454e+12</td>\n      <td>550.0</td>\n      <td>NaN</td>\n    </tr>\n    <tr>\n      <th>3</th>\n      <td>2017-01-03 09:33:00-05:00</td>\n      <td>29.0750</td>\n      <td>29.0750</td>\n      <td>29.0050</td>\n      <td>29.0276</td>\n      <td>1005592.0</td>\n      <td>29.0285</td>\n      <td>1483453980000</td>\n      <td>1049.0</td>\n      <td>NaN</td>\n      <td>...</td>\n      <td>2017-01-03 09:33:00-05:00</td>\n      <td>14.1853</td>\n      <td>14.2020</td>\n      <td>14.0913</td>\n      <td>14.1000</td>\n      <td>1084935.0</td>\n      <td>14.1462</td>\n      <td>1.483454e+12</td>\n      <td>599.0</td>\n      <td>NaN</td>\n    </tr>\n    <tr>\n      <th>4</th>\n      <td>2017-01-03 09:34:00-05:00</td>\n      <td>29.0273</td>\n      <td>29.0600</td>\n      <td>29.0273</td>\n      <td>29.0375</td>\n      <td>667760.0</td>\n      <td>29.0412</td>\n      <td>1483454040000</td>\n      <td>929.0</td>\n      <td>NaN</td>\n      <td>...</td>\n      <td>2017-01-03 09:34:00-05:00</td>\n      <td>14.0933</td>\n      <td>14.1253</td>\n      <td>14.0640</td>\n      <td>14.1193</td>\n      <td>1251645.0</td>\n      <td>14.0868</td>\n      <td>1.483454e+12</td>\n      <td>689.0</td>\n      <td>NaN</td>\n    </tr>\n  </tbody>\n</table>\n<p>5 rows × 80 columns</p>\n</div>"
     },
     "execution_count": 83,
     "metadata": {},
     "output_type": "execute_result"
    }
   ],
   "source": [
    "df0.head()"
   ],
   "metadata": {
    "collapsed": false,
    "pycharm": {
     "name": "#%%\n"
    }
   }
  },
  {
   "cell_type": "code",
   "execution_count": 5,
   "outputs": [],
   "source": [
    "df_AAPL = df0[['AAPL_date', 'AAPL_open', 'AAPL_high', 'AAPL_low', 'AAPL_close', 'AAPL_volume', 'AAPL_vwap',\n",
    "              'AAPL_transactions']]  # 'AAPL_timestamp',\n",
    "\n",
    "df_AAPL = df_AAPL.rename(columns={\"AAPL_date\": \"date\",\n",
    "                                  \"AAPL_open\": \"open\",\n",
    "                                  \"AAPL_high\": \"high\",\n",
    "                                  \"AAPL_low\": \"low\",\n",
    "                                  \"AAPL_close\": \"close\",\n",
    "                                  \"AAPL_volume\": \"volume\",\n",
    "                                  \"AAPL_vwap\": \"vwap\",\n",
    "                                  \"AAPL_transactions\": \"transactions\"\n",
    "                                  })\n",
    "\n",
    "df_AAPL['date'] = pd.to_datetime(df_AAPL['date'], format=\"%Y-%m-%d %H:%M:%S\", utc=True)\n",
    "df_AAPL = df_AAPL.set_index(pd.DatetimeIndex(df_AAPL['date']))"
   ],
   "metadata": {
    "collapsed": false,
    "pycharm": {
     "name": "#%%\n"
    }
   }
  },
  {
   "cell_type": "code",
   "execution_count": 85,
   "outputs": [],
   "source": [
    "day_df = df_AAPL.resample('1D').agg({'open': 'first', 'high': 'max', 'low': 'min', 'close': 'last', 'volume': 'sum'})\n",
    "day_df = day_df[~day_df['close'].isna()]"
   ],
   "metadata": {
    "collapsed": false,
    "pycharm": {
     "name": "#%%\n"
    }
   }
  },
  {
   "cell_type": "code",
   "execution_count": 58,
   "outputs": [
    {
     "data": {
      "text/plain": "                              open     high      low    close       volume\ndate                                                                      \n2017-01-03 00:00:00+00:00  28.9500  29.0825  28.6900  29.0225  102572716.0\n2017-01-04 00:00:00+00:00  28.9625  29.1275  28.9375  29.0025   74946512.0\n2017-01-05 00:00:00+00:00  28.9800  29.2161  28.9525  29.1525   83368768.0\n2017-01-06 00:00:00+00:00  29.1950  29.5400  29.1175  29.4925  116451676.0\n2017-01-09 00:00:00+00:00  29.4875  29.8575  29.4850  29.7450  122837968.0",
      "text/html": "<div>\n<style scoped>\n    .dataframe tbody tr th:only-of-type {\n        vertical-align: middle;\n    }\n\n    .dataframe tbody tr th {\n        vertical-align: top;\n    }\n\n    .dataframe thead th {\n        text-align: right;\n    }\n</style>\n<table border=\"1\" class=\"dataframe\">\n  <thead>\n    <tr style=\"text-align: right;\">\n      <th></th>\n      <th>open</th>\n      <th>high</th>\n      <th>low</th>\n      <th>close</th>\n      <th>volume</th>\n    </tr>\n    <tr>\n      <th>date</th>\n      <th></th>\n      <th></th>\n      <th></th>\n      <th></th>\n      <th></th>\n    </tr>\n  </thead>\n  <tbody>\n    <tr>\n      <th>2017-01-03 00:00:00+00:00</th>\n      <td>28.9500</td>\n      <td>29.0825</td>\n      <td>28.6900</td>\n      <td>29.0225</td>\n      <td>102572716.0</td>\n    </tr>\n    <tr>\n      <th>2017-01-04 00:00:00+00:00</th>\n      <td>28.9625</td>\n      <td>29.1275</td>\n      <td>28.9375</td>\n      <td>29.0025</td>\n      <td>74946512.0</td>\n    </tr>\n    <tr>\n      <th>2017-01-05 00:00:00+00:00</th>\n      <td>28.9800</td>\n      <td>29.2161</td>\n      <td>28.9525</td>\n      <td>29.1525</td>\n      <td>83368768.0</td>\n    </tr>\n    <tr>\n      <th>2017-01-06 00:00:00+00:00</th>\n      <td>29.1950</td>\n      <td>29.5400</td>\n      <td>29.1175</td>\n      <td>29.4925</td>\n      <td>116451676.0</td>\n    </tr>\n    <tr>\n      <th>2017-01-09 00:00:00+00:00</th>\n      <td>29.4875</td>\n      <td>29.8575</td>\n      <td>29.4850</td>\n      <td>29.7450</td>\n      <td>122837968.0</td>\n    </tr>\n  </tbody>\n</table>\n</div>"
     },
     "execution_count": 58,
     "metadata": {},
     "output_type": "execute_result"
    }
   ],
   "source": [
    "day_df.head()"
   ],
   "metadata": {
    "collapsed": false,
    "pycharm": {
     "name": "#%%\n"
    }
   }
  },
  {
   "cell_type": "code",
   "execution_count": 6,
   "outputs": [],
   "source": [
    "df_AAPL['log_price'] = np.log(df_AAPL['close'])"
   ],
   "metadata": {
    "collapsed": false,
    "pycharm": {
     "name": "#%%\n"
    }
   }
  },
  {
   "cell_type": "code",
   "execution_count": 7,
   "outputs": [],
   "source": [
    "df_AAPL[\"rets\"] = df_AAPL[\"close\"].pct_change()"
   ],
   "metadata": {
    "collapsed": false,
    "pycharm": {
     "name": "#%%\n"
    }
   }
  },
  {
   "cell_type": "code",
   "execution_count": 8,
   "outputs": [],
   "source": [
    "vols = df_AAPL[\"rets\"].rolling(60).std(ddof=0)\n",
    "df_AAPL['r_vol'] = pd.DataFrame(vols)\n",
    "df_AAPL['r_vol'].fillna((df_AAPL['r_vol'].mean()), inplace=True)"
   ],
   "metadata": {
    "collapsed": false,
    "pycharm": {
     "name": "#%%\n"
    }
   }
  },
  {
   "cell_type": "code",
   "execution_count": 9,
   "outputs": [],
   "source": [
    "df_AAPL = df_AAPL.iloc[1:]"
   ],
   "metadata": {
    "collapsed": false,
    "pycharm": {
     "name": "#%%\n"
    }
   }
  },
  {
   "cell_type": "code",
   "execution_count": 16,
   "outputs": [],
   "source": [
    "def drawdown(return_series: pd.Series):\n",
    "    \"\"\"Takes a time series of asset returns.\n",
    "       returns a DataFrame with columns for\n",
    "       the wealth index,\n",
    "       the previous peaks, and\n",
    "       the percentage drawdown\n",
    "    \"\"\"\n",
    "    wealth_index = 1000*(1+return_series/100).cumprod()\n",
    "    previous_peaks = np.log(wealth_index.cummax())\n",
    "    drawdowns = (wealth_index - previous_peaks)/previous_peaks\n",
    "    return pd.DataFrame({\"Wealth\": wealth_index,\n",
    "                         \"Previous Peak\": previous_peaks,\n",
    "                         \"Drawdown\": drawdowns})"
   ],
   "metadata": {
    "collapsed": false,
    "pycharm": {
     "name": "#%%\n"
    }
   }
  },
  {
   "cell_type": "markdown",
   "source": [
    "drawdown(df_AAPL['close'])[\"Previous Peak\"] - Becomes inf => drawdowns besomes 0 and NaNs, don't try this at home"
   ],
   "metadata": {
    "collapsed": false,
    "pycharm": {
     "name": "#%% md\n"
    }
   }
  },
  {
   "cell_type": "code",
   "execution_count": 63,
   "outputs": [
    {
     "data": {
      "text/plain": "                                               date     open     high  \\\ndate                                                                    \n2017-01-03 14:31:00+00:00 2017-01-03 14:31:00+00:00  28.9750  29.0625   \n2017-01-03 14:32:00+00:00 2017-01-03 14:32:00+00:00  29.0625  29.0825   \n2017-01-03 14:33:00+00:00 2017-01-03 14:33:00+00:00  29.0750  29.0750   \n2017-01-03 14:34:00+00:00 2017-01-03 14:34:00+00:00  29.0273  29.0600   \n2017-01-03 14:35:00+00:00 2017-01-03 14:35:00+00:00  29.0375  29.0625   \n\n                               low    close     volume     vwap  transactions  \\\ndate                                                                            \n2017-01-03 14:31:00+00:00  28.9475  29.0622   997416.0  29.0088        1050.0   \n2017-01-03 14:32:00+00:00  29.0575  29.0750   653408.0  29.0686         700.0   \n2017-01-03 14:33:00+00:00  29.0050  29.0276  1005592.0  29.0285        1049.0   \n2017-01-03 14:34:00+00:00  29.0273  29.0375   667760.0  29.0412         929.0   \n2017-01-03 14:35:00+00:00  29.0200  29.0375   779004.0  29.0435        1434.0   \n\n                           log_price      rets     r_vol  \ndate                                                      \n2017-01-03 14:31:00+00:00   3.369438  0.003138  0.000677  \n2017-01-03 14:32:00+00:00   3.369879  0.000440  0.000677  \n2017-01-03 14:33:00+00:00   3.368247 -0.001630  0.000677  \n2017-01-03 14:34:00+00:00   3.368588  0.000341  0.000677  \n2017-01-03 14:35:00+00:00   3.368588  0.000000  0.000677  ",
      "text/html": "<div>\n<style scoped>\n    .dataframe tbody tr th:only-of-type {\n        vertical-align: middle;\n    }\n\n    .dataframe tbody tr th {\n        vertical-align: top;\n    }\n\n    .dataframe thead th {\n        text-align: right;\n    }\n</style>\n<table border=\"1\" class=\"dataframe\">\n  <thead>\n    <tr style=\"text-align: right;\">\n      <th></th>\n      <th>date</th>\n      <th>open</th>\n      <th>high</th>\n      <th>low</th>\n      <th>close</th>\n      <th>volume</th>\n      <th>vwap</th>\n      <th>transactions</th>\n      <th>log_price</th>\n      <th>rets</th>\n      <th>r_vol</th>\n    </tr>\n    <tr>\n      <th>date</th>\n      <th></th>\n      <th></th>\n      <th></th>\n      <th></th>\n      <th></th>\n      <th></th>\n      <th></th>\n      <th></th>\n      <th></th>\n      <th></th>\n      <th></th>\n    </tr>\n  </thead>\n  <tbody>\n    <tr>\n      <th>2017-01-03 14:31:00+00:00</th>\n      <td>2017-01-03 14:31:00+00:00</td>\n      <td>28.9750</td>\n      <td>29.0625</td>\n      <td>28.9475</td>\n      <td>29.0622</td>\n      <td>997416.0</td>\n      <td>29.0088</td>\n      <td>1050.0</td>\n      <td>3.369438</td>\n      <td>0.003138</td>\n      <td>0.000677</td>\n    </tr>\n    <tr>\n      <th>2017-01-03 14:32:00+00:00</th>\n      <td>2017-01-03 14:32:00+00:00</td>\n      <td>29.0625</td>\n      <td>29.0825</td>\n      <td>29.0575</td>\n      <td>29.0750</td>\n      <td>653408.0</td>\n      <td>29.0686</td>\n      <td>700.0</td>\n      <td>3.369879</td>\n      <td>0.000440</td>\n      <td>0.000677</td>\n    </tr>\n    <tr>\n      <th>2017-01-03 14:33:00+00:00</th>\n      <td>2017-01-03 14:33:00+00:00</td>\n      <td>29.0750</td>\n      <td>29.0750</td>\n      <td>29.0050</td>\n      <td>29.0276</td>\n      <td>1005592.0</td>\n      <td>29.0285</td>\n      <td>1049.0</td>\n      <td>3.368247</td>\n      <td>-0.001630</td>\n      <td>0.000677</td>\n    </tr>\n    <tr>\n      <th>2017-01-03 14:34:00+00:00</th>\n      <td>2017-01-03 14:34:00+00:00</td>\n      <td>29.0273</td>\n      <td>29.0600</td>\n      <td>29.0273</td>\n      <td>29.0375</td>\n      <td>667760.0</td>\n      <td>29.0412</td>\n      <td>929.0</td>\n      <td>3.368588</td>\n      <td>0.000341</td>\n      <td>0.000677</td>\n    </tr>\n    <tr>\n      <th>2017-01-03 14:35:00+00:00</th>\n      <td>2017-01-03 14:35:00+00:00</td>\n      <td>29.0375</td>\n      <td>29.0625</td>\n      <td>29.0200</td>\n      <td>29.0375</td>\n      <td>779004.0</td>\n      <td>29.0435</td>\n      <td>1434.0</td>\n      <td>3.368588</td>\n      <td>0.000000</td>\n      <td>0.000677</td>\n    </tr>\n  </tbody>\n</table>\n</div>"
     },
     "execution_count": 63,
     "metadata": {},
     "output_type": "execute_result"
    }
   ],
   "source": [
    "df_AAPL.head()"
   ],
   "metadata": {
    "collapsed": false,
    "pycharm": {
     "name": "#%%\n"
    }
   }
  },
  {
   "cell_type": "code",
   "execution_count": 10,
   "outputs": [],
   "source": [
    "df_AAPL = df_AAPL.dropna()\n",
    "df_AAPL[\"OBV\"] = (np.sign(df_AAPL[\"close\"].diff()) * df_AAPL[\"volume\"]).fillna(0).cumsum()"
   ],
   "metadata": {
    "collapsed": false,
    "pycharm": {
     "name": "#%%\n"
    }
   }
  },
  {
   "cell_type": "code",
   "execution_count": 11,
   "outputs": [],
   "source": [
    "exp1 = df_AAPL['close'].ewm(span=12, adjust=False).mean()\n",
    "exp2 = df_AAPL['close'].ewm(span=26, adjust=False).mean()\n",
    "macd = exp1 - exp2\n",
    "df_AAPL['MACD'] = macd"
   ],
   "metadata": {
    "collapsed": false,
    "pycharm": {
     "name": "#%%\n"
    }
   }
  },
  {
   "cell_type": "code",
   "execution_count": 14,
   "outputs": [],
   "source": [
    "def compute_volume_bars(df, volume_bar_size):\n",
    "    cumsum_vol = df['volume'].cumsum()/volume_bar_size\n",
    "    max_tick = int(cumsum_vol.max())\n",
    "    ticks = pd.Series(range(max_tick))\n",
    "    return cumsum_vol.searchsorted(ticks)"
   ],
   "metadata": {
    "collapsed": false,
    "pycharm": {
     "name": "#%%\n"
    }
   }
  },
  {
   "cell_type": "code",
   "execution_count": null,
   "outputs": [],
   "source": [
    "# df_AAPL['volume_bars'] = compute_volume_bars(df_AAPL, 4)"
   ],
   "metadata": {
    "collapsed": false,
    "pycharm": {
     "name": "#%%\n",
     "is_executing": true
    }
   }
  },
  {
   "cell_type": "code",
   "execution_count": null,
   "outputs": [],
   "source": [
    "def compute_dollar_bars(df, dollar_bar_size):\n",
    "    '''\n",
    "        Compute indexes of dollar bars, indexes represented as integers,\n",
    "        data can be fetched by df.iloc[idxs]\n",
    "    '''\n",
    "    if 'vwap' in df.columns:\n",
    "        dollars = df['volume'] * df['vwap']\n",
    "    else:\n",
    "        dollars = (df['close'] + df['open'])/2 * df['volume']\n",
    "    dollars = dollars.cumsum()/dollar_bar_size\n",
    "    max_tick = int(dollars.max())\n",
    "    ticks = pd.Series(range(max_tick))\n",
    "    return dollars.searchsorted(ticks)"
   ],
   "metadata": {
    "collapsed": false,
    "pycharm": {
     "name": "#%%\n",
     "is_executing": true
    }
   }
  },
  {
   "cell_type": "code",
   "execution_count": null,
   "outputs": [],
   "source": [
    "## df_AAPL['dollar_bars'] = compute_dollar_bars(df_AAPL, 4)"
   ],
   "metadata": {
    "collapsed": false,
    "pycharm": {
     "name": "#%%\n",
     "is_executing": true
    }
   }
  },
  {
   "cell_type": "code",
   "execution_count": 12,
   "outputs": [],
   "source": [
    "def rsi(df, periods = 14, ema = True):\n",
    "    \"\"\"\n",
    "    Returns a pd.Series with the relative strength index.\n",
    "    \"\"\"\n",
    "    close_delta = df['close'].diff()\n",
    "\n",
    "    # Make two series: one for lower closes and one for higher closes\n",
    "    up = close_delta.clip(lower=0)\n",
    "    down = -1 * close_delta.clip(upper=0)\n",
    "\n",
    "    if ema == True:\n",
    "\t    # Use exponential moving average\n",
    "        ma_up = up.ewm(com = periods - 1, adjust=True, min_periods = periods).mean()\n",
    "        ma_down = down.ewm(com = periods - 1, adjust=True, min_periods = periods).mean()\n",
    "    else:\n",
    "        # Use simple moving average\n",
    "        ma_up = up.rolling(window = periods, adjust=False).mean()\n",
    "        ma_down = down.rolling(window = periods, adjust=False).mean()\n",
    "\n",
    "    rsi = ma_up / ma_down\n",
    "    rsi = 100 - (100/(1 + rsi))\n",
    "    return rsi"
   ],
   "metadata": {
    "collapsed": false,
    "pycharm": {
     "name": "#%%\n"
    }
   }
  },
  {
   "cell_type": "code",
   "execution_count": 13,
   "outputs": [],
   "source": [
    "df_AAPL['rsi'] = rsi(df_AAPL, periods = 60, ema = True)"
   ],
   "metadata": {
    "collapsed": false,
    "pycharm": {
     "name": "#%%\n"
    }
   }
  },
  {
   "cell_type": "code",
   "execution_count": 14,
   "outputs": [],
   "source": [
    "df_AAPL = df_AAPL.apply(lambda x: x.fillna(x.mean()),axis=0)"
   ],
   "metadata": {
    "collapsed": false,
    "pycharm": {
     "name": "#%%\n"
    }
   }
  },
  {
   "cell_type": "code",
   "execution_count": 15,
   "outputs": [],
   "source": [
    "def bollinger_bands(df, n=60, m=60):\n",
    "    # takes dataframe on input\n",
    "    # n = smoothing length\n",
    "    # m = number of standard deviations away from MA\n",
    "\n",
    "    #typical price\n",
    "    TP = (df['high'] + df['low'] + df['close']) / 3\n",
    "    # but we will use Adj close instead for now, depends\n",
    "\n",
    "    data = TP\n",
    "    #data = df['Adj Close']\n",
    "\n",
    "    # takes one column from dataframe\n",
    "    B_MA = pd.Series((data.rolling(n, min_periods=n).mean()), name='B_MA')\n",
    "    sigma = data.rolling(n, min_periods=n).std()\n",
    "\n",
    "    BU = pd.Series((B_MA + m * sigma), name='BU')\n",
    "    BL = pd.Series((B_MA - m * sigma), name='BL')\n",
    "\n",
    "    df = df.join(B_MA)\n",
    "    df = df.join(BU)\n",
    "    df = df.join(BL)\n",
    "\n",
    "    return df"
   ],
   "metadata": {
    "collapsed": false,
    "pycharm": {
     "name": "#%%\n"
    }
   }
  },
  {
   "cell_type": "code",
   "execution_count": 16,
   "outputs": [],
   "source": [
    "df_AAPL = bollinger_bands(df_AAPL)"
   ],
   "metadata": {
    "collapsed": false,
    "pycharm": {
     "name": "#%%\n"
    }
   }
  },
  {
   "cell_type": "code",
   "execution_count": 17,
   "outputs": [],
   "source": [
    "df_AAPL = df_AAPL.apply(lambda x: x.fillna(x.mean()), axis=0)"
   ],
   "metadata": {
    "collapsed": false,
    "pycharm": {
     "name": "#%%\n"
    }
   }
  },
  {
   "cell_type": "code",
   "execution_count": 18,
   "outputs": [
    {
     "data": {
      "text/plain": "                                               date      open      high  \\\ndate                                                                      \n2017-01-03 14:31:00+00:00 2017-01-03 14:31:00+00:00   28.9750   29.0625   \n2017-01-03 14:32:00+00:00 2017-01-03 14:32:00+00:00   29.0625   29.0825   \n2017-01-03 14:33:00+00:00 2017-01-03 14:33:00+00:00   29.0750   29.0750   \n2017-01-03 14:34:00+00:00 2017-01-03 14:34:00+00:00   29.0273   29.0600   \n2017-01-03 14:35:00+00:00 2017-01-03 14:35:00+00:00   29.0375   29.0625   \n...                                             ...       ...       ...   \n2020-12-31 20:56:00+00:00 2020-12-31 20:56:00+00:00  132.6500  132.8200   \n2020-12-31 20:57:00+00:00 2020-12-31 20:57:00+00:00  132.7700  132.9200   \n2020-12-31 20:58:00+00:00 2020-12-31 20:58:00+00:00  132.8400  132.9200   \n2020-12-31 20:59:00+00:00 2020-12-31 20:59:00+00:00  132.8650  133.0000   \n2020-12-31 21:00:00+00:00 2020-12-31 21:00:00+00:00  132.6900  132.8900   \n\n                                low     close     volume      vwap  \\\ndate                                                                 \n2017-01-03 14:31:00+00:00   28.9475   29.0622   997416.0   29.0088   \n2017-01-03 14:32:00+00:00   29.0575   29.0750   653408.0   29.0686   \n2017-01-03 14:33:00+00:00   29.0050   29.0276  1005592.0   29.0285   \n2017-01-03 14:34:00+00:00   29.0273   29.0375   667760.0   29.0412   \n2017-01-03 14:35:00+00:00   29.0200   29.0375   779004.0   29.0435   \n...                             ...       ...        ...       ...   \n2020-12-31 20:56:00+00:00  132.6500  132.7693   513816.0  132.7459   \n2020-12-31 20:57:00+00:00  132.7600  132.8408   505929.0  132.8310   \n2020-12-31 20:58:00+00:00  132.8300  132.8600   517398.0  132.8745   \n2020-12-31 20:59:00+00:00  132.5500  132.5800  1698250.0  132.8086   \n2020-12-31 21:00:00+00:00  132.6500  132.8000   377376.0  132.6997   \n\n                           transactions  log_price      rets     r_vol  \\\ndate                                                                     \n2017-01-03 14:31:00+00:00        1050.0   3.369438  0.003138  0.000677   \n2017-01-03 14:32:00+00:00         700.0   3.369879  0.000440  0.000677   \n2017-01-03 14:33:00+00:00        1049.0   3.368247 -0.001630  0.000677   \n2017-01-03 14:34:00+00:00         929.0   3.368588  0.000341  0.000677   \n2017-01-03 14:35:00+00:00        1434.0   3.368588  0.000000  0.000677   \n...                                 ...        ...       ...       ...   \n2020-12-31 20:56:00+00:00        3191.0   4.888613  0.000975  0.000944   \n2020-12-31 20:57:00+00:00        3527.0   4.889151  0.000539  0.000946   \n2020-12-31 20:58:00+00:00        3472.0   4.889296  0.000145  0.000946   \n2020-12-31 20:59:00+00:00        8187.0   4.887186 -0.002107  0.000982   \n2020-12-31 21:00:00+00:00         174.0   4.888844  0.001659  0.001000   \n\n                                    OBV      MACD        rsi        B_MA  \\\ndate                                                                       \n2017-01-03 14:31:00+00:00  0.000000e+00  0.000000  50.775145   57.951917   \n2017-01-03 14:32:00+00:00  6.534080e+05  0.001021  50.775145   57.951917   \n2017-01-03 14:33:00+00:00 -3.521840e+05 -0.001972  50.775145   57.951917   \n2017-01-03 14:34:00+00:00  3.155760e+05 -0.003504  50.775145   57.951917   \n2017-01-03 14:35:00+00:00  3.155760e+05 -0.004665  50.775145   57.951917   \n...                                 ...       ...        ...         ...   \n2020-12-31 20:56:00+00:00  2.448501e+09  0.009497  49.985376  132.860787   \n2020-12-31 20:57:00+00:00  2.449007e+09  0.010779  50.856946  132.858958   \n2020-12-31 20:58:00+00:00  2.449525e+09  0.013192  51.089702  132.857902   \n2020-12-31 20:59:00+00:00  2.447826e+09 -0.007404  47.736610  132.853492   \n2020-12-31 21:00:00+00:00  2.448204e+09 -0.005906  50.340817  132.848976   \n\n                                   BU          BL  \ndate                                               \n2017-01-03 14:31:00+00:00   65.468024   50.435810  \n2017-01-03 14:32:00+00:00   65.468024   50.435810  \n2017-01-03 14:33:00+00:00   65.468024   50.435810  \n2017-01-03 14:34:00+00:00   65.468024   50.435810  \n2017-01-03 14:35:00+00:00   65.468024   50.435810  \n...                               ...         ...  \n2020-12-31 20:56:00+00:00  142.346972  123.374601  \n2020-12-31 20:57:00+00:00  142.320223  123.397693  \n2020-12-31 20:58:00+00:00  142.301491  123.414314  \n2020-12-31 20:59:00+00:00  142.319931  123.387052  \n2020-12-31 21:00:00+00:00  142.202527  123.495424  \n\n[579602 rows x 17 columns]",
      "text/html": "<div>\n<style scoped>\n    .dataframe tbody tr th:only-of-type {\n        vertical-align: middle;\n    }\n\n    .dataframe tbody tr th {\n        vertical-align: top;\n    }\n\n    .dataframe thead th {\n        text-align: right;\n    }\n</style>\n<table border=\"1\" class=\"dataframe\">\n  <thead>\n    <tr style=\"text-align: right;\">\n      <th></th>\n      <th>date</th>\n      <th>open</th>\n      <th>high</th>\n      <th>low</th>\n      <th>close</th>\n      <th>volume</th>\n      <th>vwap</th>\n      <th>transactions</th>\n      <th>log_price</th>\n      <th>rets</th>\n      <th>r_vol</th>\n      <th>OBV</th>\n      <th>MACD</th>\n      <th>rsi</th>\n      <th>B_MA</th>\n      <th>BU</th>\n      <th>BL</th>\n    </tr>\n    <tr>\n      <th>date</th>\n      <th></th>\n      <th></th>\n      <th></th>\n      <th></th>\n      <th></th>\n      <th></th>\n      <th></th>\n      <th></th>\n      <th></th>\n      <th></th>\n      <th></th>\n      <th></th>\n      <th></th>\n      <th></th>\n      <th></th>\n      <th></th>\n      <th></th>\n    </tr>\n  </thead>\n  <tbody>\n    <tr>\n      <th>2017-01-03 14:31:00+00:00</th>\n      <td>2017-01-03 14:31:00+00:00</td>\n      <td>28.9750</td>\n      <td>29.0625</td>\n      <td>28.9475</td>\n      <td>29.0622</td>\n      <td>997416.0</td>\n      <td>29.0088</td>\n      <td>1050.0</td>\n      <td>3.369438</td>\n      <td>0.003138</td>\n      <td>0.000677</td>\n      <td>0.000000e+00</td>\n      <td>0.000000</td>\n      <td>50.775145</td>\n      <td>57.951917</td>\n      <td>65.468024</td>\n      <td>50.435810</td>\n    </tr>\n    <tr>\n      <th>2017-01-03 14:32:00+00:00</th>\n      <td>2017-01-03 14:32:00+00:00</td>\n      <td>29.0625</td>\n      <td>29.0825</td>\n      <td>29.0575</td>\n      <td>29.0750</td>\n      <td>653408.0</td>\n      <td>29.0686</td>\n      <td>700.0</td>\n      <td>3.369879</td>\n      <td>0.000440</td>\n      <td>0.000677</td>\n      <td>6.534080e+05</td>\n      <td>0.001021</td>\n      <td>50.775145</td>\n      <td>57.951917</td>\n      <td>65.468024</td>\n      <td>50.435810</td>\n    </tr>\n    <tr>\n      <th>2017-01-03 14:33:00+00:00</th>\n      <td>2017-01-03 14:33:00+00:00</td>\n      <td>29.0750</td>\n      <td>29.0750</td>\n      <td>29.0050</td>\n      <td>29.0276</td>\n      <td>1005592.0</td>\n      <td>29.0285</td>\n      <td>1049.0</td>\n      <td>3.368247</td>\n      <td>-0.001630</td>\n      <td>0.000677</td>\n      <td>-3.521840e+05</td>\n      <td>-0.001972</td>\n      <td>50.775145</td>\n      <td>57.951917</td>\n      <td>65.468024</td>\n      <td>50.435810</td>\n    </tr>\n    <tr>\n      <th>2017-01-03 14:34:00+00:00</th>\n      <td>2017-01-03 14:34:00+00:00</td>\n      <td>29.0273</td>\n      <td>29.0600</td>\n      <td>29.0273</td>\n      <td>29.0375</td>\n      <td>667760.0</td>\n      <td>29.0412</td>\n      <td>929.0</td>\n      <td>3.368588</td>\n      <td>0.000341</td>\n      <td>0.000677</td>\n      <td>3.155760e+05</td>\n      <td>-0.003504</td>\n      <td>50.775145</td>\n      <td>57.951917</td>\n      <td>65.468024</td>\n      <td>50.435810</td>\n    </tr>\n    <tr>\n      <th>2017-01-03 14:35:00+00:00</th>\n      <td>2017-01-03 14:35:00+00:00</td>\n      <td>29.0375</td>\n      <td>29.0625</td>\n      <td>29.0200</td>\n      <td>29.0375</td>\n      <td>779004.0</td>\n      <td>29.0435</td>\n      <td>1434.0</td>\n      <td>3.368588</td>\n      <td>0.000000</td>\n      <td>0.000677</td>\n      <td>3.155760e+05</td>\n      <td>-0.004665</td>\n      <td>50.775145</td>\n      <td>57.951917</td>\n      <td>65.468024</td>\n      <td>50.435810</td>\n    </tr>\n    <tr>\n      <th>...</th>\n      <td>...</td>\n      <td>...</td>\n      <td>...</td>\n      <td>...</td>\n      <td>...</td>\n      <td>...</td>\n      <td>...</td>\n      <td>...</td>\n      <td>...</td>\n      <td>...</td>\n      <td>...</td>\n      <td>...</td>\n      <td>...</td>\n      <td>...</td>\n      <td>...</td>\n      <td>...</td>\n      <td>...</td>\n    </tr>\n    <tr>\n      <th>2020-12-31 20:56:00+00:00</th>\n      <td>2020-12-31 20:56:00+00:00</td>\n      <td>132.6500</td>\n      <td>132.8200</td>\n      <td>132.6500</td>\n      <td>132.7693</td>\n      <td>513816.0</td>\n      <td>132.7459</td>\n      <td>3191.0</td>\n      <td>4.888613</td>\n      <td>0.000975</td>\n      <td>0.000944</td>\n      <td>2.448501e+09</td>\n      <td>0.009497</td>\n      <td>49.985376</td>\n      <td>132.860787</td>\n      <td>142.346972</td>\n      <td>123.374601</td>\n    </tr>\n    <tr>\n      <th>2020-12-31 20:57:00+00:00</th>\n      <td>2020-12-31 20:57:00+00:00</td>\n      <td>132.7700</td>\n      <td>132.9200</td>\n      <td>132.7600</td>\n      <td>132.8408</td>\n      <td>505929.0</td>\n      <td>132.8310</td>\n      <td>3527.0</td>\n      <td>4.889151</td>\n      <td>0.000539</td>\n      <td>0.000946</td>\n      <td>2.449007e+09</td>\n      <td>0.010779</td>\n      <td>50.856946</td>\n      <td>132.858958</td>\n      <td>142.320223</td>\n      <td>123.397693</td>\n    </tr>\n    <tr>\n      <th>2020-12-31 20:58:00+00:00</th>\n      <td>2020-12-31 20:58:00+00:00</td>\n      <td>132.8400</td>\n      <td>132.9200</td>\n      <td>132.8300</td>\n      <td>132.8600</td>\n      <td>517398.0</td>\n      <td>132.8745</td>\n      <td>3472.0</td>\n      <td>4.889296</td>\n      <td>0.000145</td>\n      <td>0.000946</td>\n      <td>2.449525e+09</td>\n      <td>0.013192</td>\n      <td>51.089702</td>\n      <td>132.857902</td>\n      <td>142.301491</td>\n      <td>123.414314</td>\n    </tr>\n    <tr>\n      <th>2020-12-31 20:59:00+00:00</th>\n      <td>2020-12-31 20:59:00+00:00</td>\n      <td>132.8650</td>\n      <td>133.0000</td>\n      <td>132.5500</td>\n      <td>132.5800</td>\n      <td>1698250.0</td>\n      <td>132.8086</td>\n      <td>8187.0</td>\n      <td>4.887186</td>\n      <td>-0.002107</td>\n      <td>0.000982</td>\n      <td>2.447826e+09</td>\n      <td>-0.007404</td>\n      <td>47.736610</td>\n      <td>132.853492</td>\n      <td>142.319931</td>\n      <td>123.387052</td>\n    </tr>\n    <tr>\n      <th>2020-12-31 21:00:00+00:00</th>\n      <td>2020-12-31 21:00:00+00:00</td>\n      <td>132.6900</td>\n      <td>132.8900</td>\n      <td>132.6500</td>\n      <td>132.8000</td>\n      <td>377376.0</td>\n      <td>132.6997</td>\n      <td>174.0</td>\n      <td>4.888844</td>\n      <td>0.001659</td>\n      <td>0.001000</td>\n      <td>2.448204e+09</td>\n      <td>-0.005906</td>\n      <td>50.340817</td>\n      <td>132.848976</td>\n      <td>142.202527</td>\n      <td>123.495424</td>\n    </tr>\n  </tbody>\n</table>\n<p>579602 rows × 17 columns</p>\n</div>"
     },
     "execution_count": 18,
     "metadata": {},
     "output_type": "execute_result"
    }
   ],
   "source": [
    "df_AAPL"
   ],
   "metadata": {
    "collapsed": false,
    "pycharm": {
     "name": "#%%\n"
    }
   }
  },
  {
   "cell_type": "code",
   "execution_count": 21,
   "outputs": [],
   "source": [
    "df_AAPL.to_csv('AAPLFeatures.csv', index=False)"
   ],
   "metadata": {
    "collapsed": false,
    "pycharm": {
     "name": "#%%\n"
    }
   }
  },
  {
   "cell_type": "markdown",
   "source": [
    "data is created"
   ],
   "metadata": {
    "collapsed": false,
    "pycharm": {
     "name": "#%% md\n"
    }
   }
  },
  {
   "cell_type": "code",
   "execution_count": 3,
   "outputs": [],
   "source": [
    "df = pd.read_csv('AAPLFeatures.csv').drop(columns=['open', 'high', 'low', 'OBV', 'BU', 'BL'])"
   ],
   "metadata": {
    "collapsed": false,
    "pycharm": {
     "name": "#%%\n"
    }
   }
  },
  {
   "cell_type": "code",
   "execution_count": 86,
   "outputs": [
    {
     "data": {
      "text/plain": "                        date    close     volume     vwap  transactions  \\\n0  2017-01-03 14:31:00+00:00  29.0622   997416.0  29.0088        1050.0   \n1  2017-01-03 14:32:00+00:00  29.0750   653408.0  29.0686         700.0   \n2  2017-01-03 14:33:00+00:00  29.0276  1005592.0  29.0285        1049.0   \n3  2017-01-03 14:34:00+00:00  29.0375   667760.0  29.0412         929.0   \n4  2017-01-03 14:35:00+00:00  29.0375   779004.0  29.0435        1434.0   \n\n   log_price      rets     r_vol      MACD        rsi       B_MA  \n0   3.369438  0.003138  0.000677  0.000000  50.775145  57.951917  \n1   3.369879  0.000440  0.000677  0.001021  50.775145  57.951917  \n2   3.368247 -0.001630  0.000677 -0.001972  50.775145  57.951917  \n3   3.368588  0.000341  0.000677 -0.003504  50.775145  57.951917  \n4   3.368588  0.000000  0.000677 -0.004665  50.775145  57.951917  ",
      "text/html": "<div>\n<style scoped>\n    .dataframe tbody tr th:only-of-type {\n        vertical-align: middle;\n    }\n\n    .dataframe tbody tr th {\n        vertical-align: top;\n    }\n\n    .dataframe thead th {\n        text-align: right;\n    }\n</style>\n<table border=\"1\" class=\"dataframe\">\n  <thead>\n    <tr style=\"text-align: right;\">\n      <th></th>\n      <th>date</th>\n      <th>close</th>\n      <th>volume</th>\n      <th>vwap</th>\n      <th>transactions</th>\n      <th>log_price</th>\n      <th>rets</th>\n      <th>r_vol</th>\n      <th>MACD</th>\n      <th>rsi</th>\n      <th>B_MA</th>\n    </tr>\n  </thead>\n  <tbody>\n    <tr>\n      <th>0</th>\n      <td>2017-01-03 14:31:00+00:00</td>\n      <td>29.0622</td>\n      <td>997416.0</td>\n      <td>29.0088</td>\n      <td>1050.0</td>\n      <td>3.369438</td>\n      <td>0.003138</td>\n      <td>0.000677</td>\n      <td>0.000000</td>\n      <td>50.775145</td>\n      <td>57.951917</td>\n    </tr>\n    <tr>\n      <th>1</th>\n      <td>2017-01-03 14:32:00+00:00</td>\n      <td>29.0750</td>\n      <td>653408.0</td>\n      <td>29.0686</td>\n      <td>700.0</td>\n      <td>3.369879</td>\n      <td>0.000440</td>\n      <td>0.000677</td>\n      <td>0.001021</td>\n      <td>50.775145</td>\n      <td>57.951917</td>\n    </tr>\n    <tr>\n      <th>2</th>\n      <td>2017-01-03 14:33:00+00:00</td>\n      <td>29.0276</td>\n      <td>1005592.0</td>\n      <td>29.0285</td>\n      <td>1049.0</td>\n      <td>3.368247</td>\n      <td>-0.001630</td>\n      <td>0.000677</td>\n      <td>-0.001972</td>\n      <td>50.775145</td>\n      <td>57.951917</td>\n    </tr>\n    <tr>\n      <th>3</th>\n      <td>2017-01-03 14:34:00+00:00</td>\n      <td>29.0375</td>\n      <td>667760.0</td>\n      <td>29.0412</td>\n      <td>929.0</td>\n      <td>3.368588</td>\n      <td>0.000341</td>\n      <td>0.000677</td>\n      <td>-0.003504</td>\n      <td>50.775145</td>\n      <td>57.951917</td>\n    </tr>\n    <tr>\n      <th>4</th>\n      <td>2017-01-03 14:35:00+00:00</td>\n      <td>29.0375</td>\n      <td>779004.0</td>\n      <td>29.0435</td>\n      <td>1434.0</td>\n      <td>3.368588</td>\n      <td>0.000000</td>\n      <td>0.000677</td>\n      <td>-0.004665</td>\n      <td>50.775145</td>\n      <td>57.951917</td>\n    </tr>\n  </tbody>\n</table>\n</div>"
     },
     "execution_count": 86,
     "metadata": {},
     "output_type": "execute_result"
    }
   ],
   "source": [
    "df.head()"
   ],
   "metadata": {
    "collapsed": false,
    "pycharm": {
     "name": "#%%\n"
    }
   }
  },
  {
   "cell_type": "code",
   "execution_count": 92,
   "outputs": [
    {
     "data": {
      "text/plain": "Text(0, 0.5, '$Price')"
     },
     "execution_count": 92,
     "metadata": {},
     "output_type": "execute_result"
    },
    {
     "data": {
      "text/plain": "<Figure size 2000x800 with 1 Axes>",
      "image/png": "[encoded data removed]"
     },
     "metadata": {},
     "output_type": "display_data"
    }
   ],
   "source": [
    "plt.figure(figsize=(20, 8))\n",
    "plt.title('History')\n",
    "plt.plot(df[['close']])\n",
    "plt.xlabel('Date')\n",
    "plt.ylabel('$Price')"
   ],
   "metadata": {
    "collapsed": false,
    "pycharm": {
     "name": "#%%\n"
    }
   }
  },
  {
   "cell_type": "markdown",
   "source": [
    "https://stackoverflow.com/questions/54544285/is-it-possible-to-do-multivariate-multi-step-forecasting-using-fb-prophet"
   ],
   "metadata": {
    "collapsed": false,
    "pycharm": {
     "name": "#%% md\n"
    }
   }
  },
  {
   "cell_type": "code",
   "execution_count": 16,
   "outputs": [],
   "source": [
    "slice_df = df[(df['date'] > \"2017-01-03 09:30:00\") & (df['date'] < \"2018-01-03 09:30:00\")]\n",
    "slice_df = slice_df.rename(columns={\"date\": \"ds\", \"close\": \"y\"})\n",
    "slice_df['ds'] = pd.to_datetime(slice_df['ds'])\n",
    "slice_df['ds'] = slice_df['ds'].dt.tz_localize(None)"
   ],
   "metadata": {
    "collapsed": false,
    "pycharm": {
     "name": "#%%\n"
    }
   }
  },
  {
   "cell_type": "code",
   "execution_count": 146,
   "outputs": [
    {
     "name": "stderr",
     "output_type": "stream",
     "text": [
      "/var/folders/xd/xm863f553v750zss70sl77sc0000gn/T/ipykernel_3647/95069502.py:2: SettingWithCopyWarning: \n",
      "A value is trying to be set on a copy of a slice from a DataFrame\n",
      "\n",
      "See the caveats in the documentation: https://pandas.pydata.org/pandas-docs/stable/user_guide/indexing.html#returning-a-view-versus-a-copy\n",
      "  slice_df['ds'][i] = datetime.strptime(slice_df['ds'][i][:19], '%Y-%m-%d %H:%M:%S')\n"
     ]
    }
   ],
   "source": [
    "for i in range(slice_df.shape[0]):\n",
    "    slice_df['ds'][i] = datetime.strptime(slice_df['ds'][i][:19], '%Y-%m-%d %H:%M:%S')"
   ],
   "metadata": {
    "collapsed": false,
    "pycharm": {
     "name": "#%%\n"
    }
   }
  },
  {
   "cell_type": "code",
   "execution_count": 8,
   "outputs": [
    {
     "data": {
      "text/plain": "0        2017-01-03 14:31:00+00:00\n1        2017-01-03 14:32:00+00:00\n2        2017-01-03 14:33:00+00:00\n3        2017-01-03 14:34:00+00:00\n4        2017-01-03 14:35:00+00:00\n                    ...           \n150951   2018-01-02 20:56:00+00:00\n150952   2018-01-02 20:57:00+00:00\n150953   2018-01-02 20:58:00+00:00\n150954   2018-01-02 20:59:00+00:00\n150955   2018-01-02 21:00:00+00:00\nName: ds, Length: 150956, dtype: datetime64[ns, UTC]"
     },
     "execution_count": 8,
     "metadata": {},
     "output_type": "execute_result"
    }
   ],
   "source": [
    "slice_df['ds']"
   ],
   "metadata": {
    "collapsed": false,
    "pycharm": {
     "name": "#%%\n"
    }
   }
  },
  {
   "cell_type": "code",
   "execution_count": 129,
   "outputs": [
    {
     "ename": "AttributeError",
     "evalue": "Can only use .dt accessor with datetimelike values",
     "output_type": "error",
     "traceback": [
      "\u001B[0;31m---------------------------------------------------------------------------\u001B[0m",
      "\u001B[0;31mAttributeError\u001B[0m                            Traceback (most recent call last)",
      "Input \u001B[0;32mIn [129]\u001B[0m, in \u001B[0;36m<cell line: 1>\u001B[0;34m()\u001B[0m\n\u001B[0;32m----> 1\u001B[0m slice_df[\u001B[38;5;124m'\u001B[39m\u001B[38;5;124mds\u001B[39m\u001B[38;5;124m'\u001B[39m] \u001B[38;5;241m=\u001B[39m \u001B[43mslice_df\u001B[49m\u001B[43m[\u001B[49m\u001B[38;5;124;43m'\u001B[39;49m\u001B[38;5;124;43mds\u001B[39;49m\u001B[38;5;124;43m'\u001B[39;49m\u001B[43m]\u001B[49m\u001B[43m \u001B[49m\u001B[38;5;241;43m.\u001B[39;49m\u001B[43mdt\u001B[49m\u001B[38;5;241m.\u001B[39mtz_localize(\u001B[38;5;28;01mNone\u001B[39;00m)\n",
      "File \u001B[0;32m~/PycharmProjects/pythonProject/venv/lib/python3.9/site-packages/pandas/core/generic.py:5575\u001B[0m, in \u001B[0;36mNDFrame.__getattr__\u001B[0;34m(self, name)\u001B[0m\n\u001B[1;32m   5568\u001B[0m \u001B[38;5;28;01mif\u001B[39;00m (\n\u001B[1;32m   5569\u001B[0m     name \u001B[38;5;129;01mnot\u001B[39;00m \u001B[38;5;129;01min\u001B[39;00m \u001B[38;5;28mself\u001B[39m\u001B[38;5;241m.\u001B[39m_internal_names_set\n\u001B[1;32m   5570\u001B[0m     \u001B[38;5;129;01mand\u001B[39;00m name \u001B[38;5;129;01mnot\u001B[39;00m \u001B[38;5;129;01min\u001B[39;00m \u001B[38;5;28mself\u001B[39m\u001B[38;5;241m.\u001B[39m_metadata\n\u001B[1;32m   5571\u001B[0m     \u001B[38;5;129;01mand\u001B[39;00m name \u001B[38;5;129;01mnot\u001B[39;00m \u001B[38;5;129;01min\u001B[39;00m \u001B[38;5;28mself\u001B[39m\u001B[38;5;241m.\u001B[39m_accessors\n\u001B[1;32m   5572\u001B[0m     \u001B[38;5;129;01mand\u001B[39;00m \u001B[38;5;28mself\u001B[39m\u001B[38;5;241m.\u001B[39m_info_axis\u001B[38;5;241m.\u001B[39m_can_hold_identifiers_and_holds_name(name)\n\u001B[1;32m   5573\u001B[0m ):\n\u001B[1;32m   5574\u001B[0m     \u001B[38;5;28;01mreturn\u001B[39;00m \u001B[38;5;28mself\u001B[39m[name]\n\u001B[0;32m-> 5575\u001B[0m \u001B[38;5;28;01mreturn\u001B[39;00m \u001B[38;5;28;43mobject\u001B[39;49m\u001B[38;5;241;43m.\u001B[39;49m\u001B[38;5;21;43m__getattribute__\u001B[39;49m\u001B[43m(\u001B[49m\u001B[38;5;28;43mself\u001B[39;49m\u001B[43m,\u001B[49m\u001B[43m \u001B[49m\u001B[43mname\u001B[49m\u001B[43m)\u001B[49m\n",
      "File \u001B[0;32m~/PycharmProjects/pythonProject/venv/lib/python3.9/site-packages/pandas/core/accessor.py:182\u001B[0m, in \u001B[0;36mCachedAccessor.__get__\u001B[0;34m(self, obj, cls)\u001B[0m\n\u001B[1;32m    179\u001B[0m \u001B[38;5;28;01mif\u001B[39;00m obj \u001B[38;5;129;01mis\u001B[39;00m \u001B[38;5;28;01mNone\u001B[39;00m:\n\u001B[1;32m    180\u001B[0m     \u001B[38;5;66;03m# we're accessing the attribute of the class, i.e., Dataset.geo\u001B[39;00m\n\u001B[1;32m    181\u001B[0m     \u001B[38;5;28;01mreturn\u001B[39;00m \u001B[38;5;28mself\u001B[39m\u001B[38;5;241m.\u001B[39m_accessor\n\u001B[0;32m--> 182\u001B[0m accessor_obj \u001B[38;5;241m=\u001B[39m \u001B[38;5;28;43mself\u001B[39;49m\u001B[38;5;241;43m.\u001B[39;49m\u001B[43m_accessor\u001B[49m\u001B[43m(\u001B[49m\u001B[43mobj\u001B[49m\u001B[43m)\u001B[49m\n\u001B[1;32m    183\u001B[0m \u001B[38;5;66;03m# Replace the property with the accessor object. Inspired by:\u001B[39;00m\n\u001B[1;32m    184\u001B[0m \u001B[38;5;66;03m# https://www.pydanny.com/cached-property.html\u001B[39;00m\n\u001B[1;32m    185\u001B[0m \u001B[38;5;66;03m# We need to use object.__setattr__ because we overwrite __setattr__ on\u001B[39;00m\n\u001B[1;32m    186\u001B[0m \u001B[38;5;66;03m# NDFrame\u001B[39;00m\n\u001B[1;32m    187\u001B[0m \u001B[38;5;28mobject\u001B[39m\u001B[38;5;241m.\u001B[39m\u001B[38;5;21m__setattr__\u001B[39m(obj, \u001B[38;5;28mself\u001B[39m\u001B[38;5;241m.\u001B[39m_name, accessor_obj)\n",
      "File \u001B[0;32m~/PycharmProjects/pythonProject/venv/lib/python3.9/site-packages/pandas/core/indexes/accessors.py:509\u001B[0m, in \u001B[0;36mCombinedDatetimelikeProperties.__new__\u001B[0;34m(cls, data)\u001B[0m\n\u001B[1;32m    506\u001B[0m \u001B[38;5;28;01melif\u001B[39;00m is_period_dtype(data\u001B[38;5;241m.\u001B[39mdtype):\n\u001B[1;32m    507\u001B[0m     \u001B[38;5;28;01mreturn\u001B[39;00m PeriodProperties(data, orig)\n\u001B[0;32m--> 509\u001B[0m \u001B[38;5;28;01mraise\u001B[39;00m \u001B[38;5;167;01mAttributeError\u001B[39;00m(\u001B[38;5;124m\"\u001B[39m\u001B[38;5;124mCan only use .dt accessor with datetimelike values\u001B[39m\u001B[38;5;124m\"\u001B[39m)\n",
      "\u001B[0;31mAttributeError\u001B[0m: Can only use .dt accessor with datetimelike values"
     ]
    }
   ],
   "source": [
    "#slice_df['ds'] = slice_df['ds'] .dt.tz_localize(None)"
   ],
   "metadata": {
    "collapsed": false,
    "pycharm": {
     "name": "#%%\n"
    }
   }
  },
  {
   "cell_type": "code",
   "execution_count": 9,
   "outputs": [
    {
     "data": {
      "text/plain": "'2017-01-03 14:31:00+00:00'"
     },
     "execution_count": 9,
     "metadata": {},
     "output_type": "execute_result"
    }
   ],
   "source": [
    "str(slice_df[\"ds\"][0])"
   ],
   "metadata": {
    "collapsed": false,
    "pycharm": {
     "name": "#%%\n"
    }
   }
  },
  {
   "cell_type": "code",
   "execution_count": 17,
   "outputs": [],
   "source": [
    "df_train = slice_df.loc[slice_df[\"ds\"] < \"2017-09-01 09:30:00\"]\n",
    "df_test  = slice_df.loc[ slice_df[\"ds\"] >= \"2017-09-01 09:30:00\"]"
   ],
   "metadata": {
    "collapsed": false,
    "pycharm": {
     "name": "#%%\n"
    }
   }
  },
  {
   "cell_type": "code",
   "execution_count": 18,
   "outputs": [
    {
     "name": "stdout",
     "output_type": "stream",
     "text": [
      "(106561, 11)\n",
      "(44395, 11)\n"
     ]
    }
   ],
   "source": [
    "print(df_train.shape)\n",
    "print(df_test.shape)"
   ],
   "metadata": {
    "collapsed": false,
    "pycharm": {
     "name": "#%%\n"
    }
   }
  },
  {
   "cell_type": "code",
   "execution_count": 12,
   "outputs": [
    {
     "data": {
      "text/plain": "Index(['ds', 'y', 'volume', 'vwap', 'transactions', 'log_price', 'rets',\n       'r_vol', 'MACD', 'rsi', 'B_MA'],\n      dtype='object')"
     },
     "execution_count": 12,
     "metadata": {},
     "output_type": "execute_result"
    }
   ],
   "source": [
    "df_test.columns"
   ],
   "metadata": {
    "collapsed": false,
    "pycharm": {
     "name": "#%%\n"
    }
   }
  },
  {
   "cell_type": "code",
   "execution_count": 13,
   "outputs": [],
   "source": [
    "#slice_df['ds'] = pd.to_datetime(slice_df['ds'] , format='%d/%m/%y %H:%M:%S').dt.strftime('%Y-%m-%d %H:%M:%S')"
   ],
   "metadata": {
    "collapsed": false,
    "pycharm": {
     "name": "#%%\n"
    }
   }
  },
  {
   "cell_type": "code",
   "execution_count": 19,
   "outputs": [],
   "source": [
    "from fbprophet import Prophet\n",
    "m = Prophet(changepoint_prior_scale=0.01)\n",
    "for feature in ['volume', 'vwap', 'transactions', 'log_price', 'rets', 'r_vol', 'MACD', 'rsi', 'B_MA']:\n",
    "    m.add_regressor(feature)"
   ],
   "metadata": {
    "collapsed": false,
    "pycharm": {
     "name": "#%%\n"
    }
   }
  },
  {
   "cell_type": "code",
   "execution_count": 20,
   "outputs": [
    {
     "name": "stderr",
     "output_type": "stream",
     "text": [
      "INFO:fbprophet:Disabling yearly seasonality. Run prophet with yearly_seasonality=True to override this.\n",
      "/Users/artemilin/PycharmProjects/pythonProject/venv/lib/python3.9/site-packages/fbprophet/forecaster.py:891: FutureWarning: The frame.append method is deprecated and will be removed from pandas in a future version. Use pandas.concat instead.\n",
      "  components = components.append(new_comp)\n"
     ]
    },
    {
     "name": "stdout",
     "output_type": "stream",
     "text": [
      "Initial log joint probability = -107.424\n",
      "    Iter      log prob        ||dx||      ||grad||       alpha      alpha0  # evals  Notes \n",
      "      99        609074    0.00323594   2.84142e+06           1           1      124   \n",
      "    Iter      log prob        ||dx||      ||grad||       alpha      alpha0  # evals  Notes \n",
      "     199        635531   0.000166786   1.37823e+06           1           1      229   \n",
      "    Iter      log prob        ||dx||      ||grad||       alpha      alpha0  # evals  Notes \n",
      "     299        643861   0.000436782        623969           1           1      334   \n",
      "    Iter      log prob        ||dx||      ||grad||       alpha      alpha0  # evals  Notes \n",
      "     399        655740   0.000823617   2.69069e+06      0.6054      0.6054      439   \n",
      "    Iter      log prob        ||dx||      ||grad||       alpha      alpha0  # evals  Notes \n",
      "     499        674569   0.000132571   1.09581e+06      0.8145      0.8145      543   \n",
      "    Iter      log prob        ||dx||      ||grad||       alpha      alpha0  # evals  Notes \n",
      "     599        685777    0.00574552   7.09796e+06      0.8948      0.8948      647   \n",
      "    Iter      log prob        ||dx||      ||grad||       alpha      alpha0  # evals  Notes \n",
      "     699        702557   3.83906e-05   1.44956e+06           1           1      751   \n",
      "    Iter      log prob        ||dx||      ||grad||       alpha      alpha0  # evals  Notes \n",
      "     799        707702   5.84972e-05   1.12282e+06           1           1      857   \n",
      "    Iter      log prob        ||dx||      ||grad||       alpha      alpha0  # evals  Notes \n",
      "     899        710235   0.000767595   2.29558e+06           1           1      964   \n",
      "    Iter      log prob        ||dx||      ||grad||       alpha      alpha0  # evals  Notes \n",
      "     999        714790    0.00013264   1.42147e+06           1           1     1075   \n",
      "    Iter      log prob        ||dx||      ||grad||       alpha      alpha0  # evals  Notes \n",
      "    1099        722114     0.0021731    3.8403e+06           1           1     1184   \n",
      "    Iter      log prob        ||dx||      ||grad||       alpha      alpha0  # evals  Notes \n",
      "    1199        733707    0.00345281   1.88162e+07           1           1     1291   \n",
      "    Iter      log prob        ||dx||      ||grad||       alpha      alpha0  # evals  Notes \n",
      "    1299        742661   0.000173539   2.59881e+06      0.8502      0.8502     1400   \n",
      "    Iter      log prob        ||dx||      ||grad||       alpha      alpha0  # evals  Notes \n",
      "    1399        748541   9.32548e-05   2.10069e+06           1           1     1507   \n",
      "    Iter      log prob        ||dx||      ||grad||       alpha      alpha0  # evals  Notes \n",
      "    1499        750827   4.16547e-05        801519           1           1     1618   \n",
      "    Iter      log prob        ||dx||      ||grad||       alpha      alpha0  # evals  Notes \n",
      "    1599        751476   4.95947e-05        552855           1           1     1728   \n",
      "    Iter      log prob        ||dx||      ||grad||       alpha      alpha0  # evals  Notes \n",
      "    1699        754536   0.000512332   2.90066e+06      0.4453           1     1841   \n",
      "    Iter      log prob        ||dx||      ||grad||       alpha      alpha0  # evals  Notes \n",
      "    1799        757800   5.55523e-05   1.37187e+06           1           1     1950   \n",
      "    Iter      log prob        ||dx||      ||grad||       alpha      alpha0  # evals  Notes \n",
      "    1899        758866   7.58669e-05   1.13239e+06      0.4759      0.4759     2057   \n",
      "    Iter      log prob        ||dx||      ||grad||       alpha      alpha0  # evals  Notes \n",
      "    1999        760920     0.0012183   4.29853e+06      0.6034      0.6034     2164   \n",
      "    Iter      log prob        ||dx||      ||grad||       alpha      alpha0  # evals  Notes \n",
      "    2099        761891   3.35373e-05   1.21944e+06           1           1     2270   \n",
      "    Iter      log prob        ||dx||      ||grad||       alpha      alpha0  # evals  Notes \n",
      "    2199        762218    3.5049e-05   1.09465e+06           1           1     2377   \n",
      "    Iter      log prob        ||dx||      ||grad||       alpha      alpha0  # evals  Notes \n",
      "    2299        764276   1.73823e-05   2.30296e+06           1           1     2486   \n",
      "    Iter      log prob        ||dx||      ||grad||       alpha      alpha0  # evals  Notes \n",
      "    2399        765467   0.000852773   6.97927e+06           1           1     2592   \n",
      "    Iter      log prob        ||dx||      ||grad||       alpha      alpha0  # evals  Notes \n",
      "    2499        766220   7.66225e-06        733671           1           1     2696   \n",
      "    Iter      log prob        ||dx||      ||grad||       alpha      alpha0  # evals  Notes \n",
      "    2599        767050   0.000168016   4.12891e+06      0.3633      0.3633     2800   \n",
      "    Iter      log prob        ||dx||      ||grad||       alpha      alpha0  # evals  Notes \n",
      "    2699        767622   6.25028e-05   1.63962e+06           1           1     2908   \n",
      "    Iter      log prob        ||dx||      ||grad||       alpha      alpha0  # evals  Notes \n",
      "    2799        768529   0.000772705   1.39803e+06           1           1     3016   \n",
      "    Iter      log prob        ||dx||      ||grad||       alpha      alpha0  # evals  Notes \n",
      "    2899        771782   7.29978e-05   2.42888e+06           1           1     3121   \n",
      "    Iter      log prob        ||dx||      ||grad||       alpha      alpha0  # evals  Notes \n",
      "    2999        774002   3.86179e-06   1.61195e+06      0.1624      0.1624     3231   \n",
      "    Iter      log prob        ||dx||      ||grad||       alpha      alpha0  # evals  Notes \n",
      "    3099        774520   0.000115427   1.52552e+06           1           1     3338   \n",
      "    Iter      log prob        ||dx||      ||grad||       alpha      alpha0  # evals  Notes \n",
      "    3199        774916   2.79639e-05   1.61154e+06      0.8145      0.8145     3444   \n",
      "    Iter      log prob        ||dx||      ||grad||       alpha      alpha0  # evals  Notes \n",
      "    3299        775995    5.0316e-05        862124           1           1     3550   \n",
      "    Iter      log prob        ||dx||      ||grad||       alpha      alpha0  # evals  Notes \n",
      " "
     ]
    },
    {
     "data": {
      "text/plain": "<fbprophet.forecaster.Prophet at 0x299420d60>"
     },
     "execution_count": 20,
     "metadata": {},
     "output_type": "execute_result"
    },
    {
     "name": "stdout",
     "output_type": "stream",
     "text": [
      "   3399        786709    0.00248616   1.67879e+07      0.4333           1     3661   \n",
      "    Iter      log prob        ||dx||      ||grad||       alpha      alpha0  # evals  Notes \n",
      "    3499        795639   7.77713e-05   3.86783e+06           1           1     3765   \n",
      "    Iter      log prob        ||dx||      ||grad||       alpha      alpha0  # evals  Notes \n",
      "    3599        797892   7.40299e-05   1.69466e+06           1           1     3874   \n",
      "    Iter      log prob        ||dx||      ||grad||       alpha      alpha0  # evals  Notes \n",
      "    3699        798096   1.47349e-05   1.00132e+06           1           1     3980   \n",
      "    Iter      log prob        ||dx||      ||grad||       alpha      alpha0  # evals  Notes \n",
      "    3799        798687   1.42764e-05   2.67992e+06      0.2001      0.2001     4095   \n",
      "    Iter      log prob        ||dx||      ||grad||       alpha      alpha0  # evals  Notes \n",
      "    3899        800276   9.10367e-05   7.22847e+06           1           1     4200   \n",
      "    Iter      log prob        ||dx||      ||grad||       alpha      alpha0  # evals  Notes \n",
      "    3999        800658   3.41432e-05        599156      0.9367      0.9367     4308   \n",
      "    Iter      log prob        ||dx||      ||grad||       alpha      alpha0  # evals  Notes \n",
      "    4099        801066   2.22061e-05    1.0929e+06           1           1     4418   \n",
      "    Iter      log prob        ||dx||      ||grad||       alpha      alpha0  # evals  Notes \n",
      "    4199        801593   5.11241e-05   2.14085e+06      0.6472      0.6472     4528   \n",
      "    Iter      log prob        ||dx||      ||grad||       alpha      alpha0  # evals  Notes \n",
      "    4299        802235   8.32588e-05   2.33678e+06           1           1     4636   \n",
      "    Iter      log prob        ||dx||      ||grad||       alpha      alpha0  # evals  Notes \n",
      "    4399        804387   1.09896e-05        780465           1           1     4744   \n",
      "    Iter      log prob        ||dx||      ||grad||       alpha      alpha0  # evals  Notes \n",
      "    4499        805035   0.000303191   4.15236e+06           1           1     4851   \n",
      "    Iter      log prob        ||dx||      ||grad||       alpha      alpha0  # evals  Notes \n",
      "    4599        805333   0.000257333   5.18703e+06           1           1     4959   \n",
      "    Iter      log prob        ||dx||      ||grad||       alpha      alpha0  # evals  Notes \n",
      "    4699        805845   0.000101008   2.54537e+06           1           1     5066   \n",
      "    Iter      log prob        ||dx||      ||grad||       alpha      alpha0  # evals  Notes \n",
      "    4799        806914   2.12302e-05   2.29148e+06       4.728      0.4728     5174   \n",
      "    Iter      log prob        ||dx||      ||grad||       alpha      alpha0  # evals  Notes \n",
      "    4899        807569   0.000134628   1.02682e+06           1           1     5277   \n",
      "    Iter      log prob        ||dx||      ||grad||       alpha      alpha0  # evals  Notes \n",
      "    4999        807819   2.97406e-05        506367           1           1     5386   \n",
      "    Iter      log prob        ||dx||      ||grad||       alpha      alpha0  # evals  Notes \n",
      "    5099        808112   4.29887e-05   1.27299e+06           1           1     5492   \n",
      "    Iter      log prob        ||dx||      ||grad||       alpha      alpha0  # evals  Notes \n",
      "    5199        808265   1.53588e-06        273906           1           1     5602   \n",
      "    Iter      log prob        ||dx||      ||grad||       alpha      alpha0  # evals  Notes \n",
      "    5299        808658   0.000517179   2.59909e+06           1           1     5706   \n",
      "    Iter      log prob        ||dx||      ||grad||       alpha      alpha0  # evals  Notes \n",
      "    5399        811922   0.000239116   3.37952e+06           1           1     5814   \n",
      "    Iter      log prob        ||dx||      ||grad||       alpha      alpha0  # evals  Notes \n",
      "    5499        828368   0.000215743   1.67901e+07      0.3141      0.3141     5921   \n",
      "    Iter      log prob        ||dx||      ||grad||       alpha      alpha0  # evals  Notes \n",
      "    5599        831169   5.45662e-05    5.3213e+06           1           1     6030   \n",
      "    Iter      log prob        ||dx||      ||grad||       alpha      alpha0  # evals  Notes \n",
      "    5699        832213    7.7359e-06   1.44826e+06           1           1     6136   \n",
      "    Iter      log prob        ||dx||      ||grad||       alpha      alpha0  # evals  Notes \n",
      "    5799        832337    1.2921e-05    1.1888e+06           1           1     6248   \n",
      "    Iter      log prob        ||dx||      ||grad||       alpha      alpha0  # evals  Notes \n",
      "    5899        832509   6.36379e-05   1.90048e+06           1           1     6349   \n",
      "    Iter      log prob        ||dx||      ||grad||       alpha      alpha0  # evals  Notes \n",
      "    5999        832838   8.21043e-06   1.99913e+06           1           1     6453   \n",
      "    Iter      log prob        ||dx||      ||grad||       alpha      alpha0  # evals  Notes \n",
      "    6099        832955   8.65774e-05   1.60791e+06           1           1     6559   \n",
      "    Iter      log prob        ||dx||      ||grad||       alpha      alpha0  # evals  Notes \n",
      "    6199        833255    5.6906e-05   2.13314e+06           1           1     6664   \n",
      "    Iter      log prob        ||dx||      ||grad||       alpha      alpha0  # evals  Notes \n",
      "    6299        833691   9.06972e-05   2.01913e+06           1           1     6772   \n",
      "    Iter      log prob        ||dx||      ||grad||       alpha      alpha0  # evals  Notes \n",
      "    6399        834155   8.13315e-05   2.03643e+06           1           1     6882   \n",
      "    Iter      log prob        ||dx||      ||grad||       alpha      alpha0  # evals  Notes \n",
      "    6499        835276   0.000467085   3.75067e+06      0.9592      0.9592     6990   \n",
      "    Iter      log prob        ||dx||      ||grad||       alpha      alpha0  # evals  Notes \n",
      "    6599        839390    0.00109836   4.50335e+06           1           1     7098   \n",
      "    Iter      log prob        ||dx||      ||grad||       alpha      alpha0  # evals  Notes \n",
      "    6699        842338   7.88527e-05   1.07062e+07           1           1     7201   \n",
      "    Iter      log prob        ||dx||      ||grad||       alpha      alpha0  # evals  Notes \n",
      "    6799        842651   2.31454e-05   1.36635e+06           1           1     7307   \n",
      "    Iter      log prob        ||dx||      ||grad||       alpha      alpha0  # evals  Notes \n",
      "    6899        842740   4.63436e-06        701616           1           1     7411   \n",
      "    Iter      log prob        ||dx||      ||grad||       alpha      alpha0  # evals  Notes \n",
      "    6999        842814   2.75264e-05   1.53398e+06           1           1     7518   \n",
      "    Iter      log prob        ||dx||      ||grad||       alpha      alpha0  # evals  Notes \n",
      "    7099        843054   1.74039e-05   1.94271e+06           1           1     7626   \n",
      "    Iter      log prob        ||dx||      ||grad||       alpha      alpha0  # evals  Notes \n",
      "    7199        843219    3.1583e-06   1.68433e+06      0.3297           1     7731   \n",
      "    Iter      log prob        ||dx||      ||grad||       alpha      alpha0  # evals  Notes \n",
      "    7299        843282    3.1172e-06   1.15941e+06      0.5137           1     7837   \n",
      "    Iter      log prob        ||dx||      ||grad||       alpha      alpha0  # evals  Notes \n",
      "    7399        843464   3.97828e-05   1.71137e+06      0.3523      0.3523     7940   \n",
      "    Iter      log prob        ||dx||      ||grad||       alpha      alpha0  # evals  Notes \n",
      "    7499        845024   4.56733e-05   7.08693e+06      0.4843      0.4843     8046   \n",
      "    Iter      log prob        ||dx||      ||grad||       alpha      alpha0  # evals  Notes \n",
      "    7599        848432    0.00263584   1.45173e+07           1           1     8152   \n",
      "    Iter      log prob        ||dx||      ||grad||       alpha      alpha0  # evals  Notes \n",
      "    7699        852917   0.000402702   4.01657e+06           1           1     8257   \n",
      "    Iter      log prob        ||dx||      ||grad||       alpha      alpha0  # evals  Notes \n",
      "    7799        856703   2.69642e-05   2.01957e+06           1           1     8363   \n",
      "    Iter      log prob        ||dx||      ||grad||       alpha      alpha0  # evals  Notes \n",
      "    7899        857647   8.46466e-06   2.96722e+06           1           1     8467   \n",
      "    Iter      log prob        ||dx||      ||grad||       alpha      alpha0  # evals  Notes \n",
      "    7999        857743   8.48514e-06   1.15517e+06           1           1     8569   \n",
      "    Iter      log prob        ||dx||      ||grad||       alpha      alpha0  # evals  Notes \n",
      "    8099        857782    1.3696e-05   1.37726e+06           1           1     8674   \n",
      "    Iter      log prob        ||dx||      ||grad||       alpha      alpha0  # evals  Notes \n",
      "    8199        857917   1.00812e-06   1.07758e+06      0.2383      0.2383     8780   \n",
      "    Iter      log prob        ||dx||      ||grad||       alpha      alpha0  # evals  Notes \n",
      "    8299        857961   6.09907e-07        435973      0.8007      0.8007     8885   \n",
      "    Iter      log prob        ||dx||      ||grad||       alpha      alpha0  # evals  Notes \n",
      "    8399        857997   1.35254e-06        426194           1           1     8989   \n",
      "    Iter      log prob        ||dx||      ||grad||       alpha      alpha0  # evals  Notes \n",
      "    8499        858831   0.000426602   1.12247e+07           1           1     9094   \n",
      "    Iter      log prob        ||dx||      ||grad||       alpha      alpha0  # evals  Notes \n",
      "    8599        860054    0.00014579   3.99411e+06           1           1     9200   \n",
      "    Iter      log prob        ||dx||      ||grad||       alpha      alpha0  # evals  Notes \n",
      "    8699        860747   0.000115038   2.98822e+06           1           1     9306   \n",
      "    Iter      log prob        ||dx||      ||grad||       alpha      alpha0  # evals  Notes \n",
      "    8799        861031   1.69207e-05   1.95661e+06           1           1     9413   \n",
      "    Iter      log prob        ||dx||      ||grad||       alpha      alpha0  # evals  Notes \n",
      "    8899        861289   0.000104499   5.69048e+06           1           1     9520   \n",
      "    Iter      log prob        ||dx||      ||grad||       alpha      alpha0  # evals  Notes \n",
      "    8999        862052    1.2507e-05   2.86797e+06           1           1     9625   \n",
      "    Iter      log prob        ||dx||      ||grad||       alpha      alpha0  # evals  Notes \n",
      "    9099        862664   8.07365e-05   5.54676e+06           1           1     9735   \n",
      "    Iter      log prob        ||dx||      ||grad||       alpha      alpha0  # evals  Notes \n",
      "    9199        863689   1.01918e-05   6.25284e+06           1           1     9841   \n",
      "    Iter      log prob        ||dx||      ||grad||       alpha      alpha0  # evals  Notes \n",
      "    9299        863959   1.75275e-06        985478           1           1     9953   \n",
      "    Iter      log prob        ||dx||      ||grad||       alpha      alpha0  # evals  Notes \n",
      "    9399        864109   6.95871e-06   1.04968e+06      0.8271      0.8271    10062   \n",
      "    Iter      log prob        ||dx||      ||grad||       alpha      alpha0  # evals  Notes \n",
      "    9499        864226   7.80331e-06   1.00577e+06           1           1    10171   \n",
      "    Iter      log prob        ||dx||      ||grad||       alpha      alpha0  # evals  Notes \n",
      "    9599        864464   6.31608e-06   1.55968e+06      0.6476      0.6476    10283   \n",
      "    Iter      log prob        ||dx||      ||grad||       alpha      alpha0  # evals  Notes \n",
      "    9699        864592   1.67698e-05   3.07219e+06           1           1    10390   \n",
      "    Iter      log prob        ||dx||      ||grad||       alpha      alpha0  # evals  Notes \n",
      "    9799        864647   8.68924e-06   1.34674e+06           1           1    10497   \n",
      "    Iter      log prob        ||dx||      ||grad||       alpha      alpha0  # evals  Notes \n",
      "    9899        864672   1.09146e-05   1.48338e+06           1           1    10599   \n",
      "    Iter      log prob        ||dx||      ||grad||       alpha      alpha0  # evals  Notes \n",
      "    9999        864697   1.63142e-05   1.29872e+06           1           1    10703   \n",
      "    Iter      log prob        ||dx||      ||grad||       alpha      alpha0  # evals  Notes \n",
      "   10000        864697   6.56994e-06        877390      0.9525      0.9525    10704   \n",
      "Optimization terminated normally: \n",
      "  Maximum number of iterations hit, may not be at an optima\n"
     ]
    }
   ],
   "source": [
    "m.fit(df_train)"
   ],
   "metadata": {
    "collapsed": false,
    "pycharm": {
     "name": "#%%\n"
    }
   }
  },
  {
   "cell_type": "code",
   "execution_count": 21,
   "outputs": [],
   "source": [
    "# Python\n",
    "from fbprophet.serialize import model_to_json, model_from_json\n",
    "\n",
    "with open('fbprophetAAPL.json', 'w') as fout:\n",
    "    fout.write(model_to_json(m))  # Save model\n",
    "\n",
    "#with open('serialized_model.json', 'r') as fin:\n",
    "#    m = model_from_json(fin.read())  # Load model"
   ],
   "metadata": {
    "collapsed": false,
    "pycharm": {
     "name": "#%%\n"
    }
   }
  },
  {
   "cell_type": "code",
   "execution_count": null,
   "outputs": [],
   "source": [
    "\"\"\"model.compile(optimizer='adam', loss='mean_absolute_percentage_error')  ###\n",
    "model.fit(x_train, y_train, batch_size=1, epochs=3)\"\"\""
   ],
   "metadata": {
    "collapsed": false,
    "pycharm": {
     "name": "#%%\n",
     "is_executing": true
    }
   }
  },
  {
   "cell_type": "code",
   "execution_count": 26,
   "outputs": [
    {
     "data": {
      "text/plain": "                       ds  volume  vwap  transactions  log_price  rets  r_vol  \\\n65866 2018-08-27 20:00:00     NaN   NaN           NaN        NaN   NaN    NaN   \n65867 2018-08-28 20:00:00     NaN   NaN           NaN        NaN   NaN    NaN   \n65868 2018-08-29 20:00:00     NaN   NaN           NaN        NaN   NaN    NaN   \n65869 2018-08-30 20:00:00     NaN   NaN           NaN        NaN   NaN    NaN   \n65870 2018-08-31 20:00:00     NaN   NaN           NaN        NaN   NaN    NaN   \n\n       MACD  rsi  B_MA  \n65866   NaN  NaN   NaN  \n65867   NaN  NaN   NaN  \n65868   NaN  NaN   NaN  \n65869   NaN  NaN   NaN  \n65870   NaN  NaN   NaN  ",
      "text/html": "<div>\n<style scoped>\n    .dataframe tbody tr th:only-of-type {\n        vertical-align: middle;\n    }\n\n    .dataframe tbody tr th {\n        vertical-align: top;\n    }\n\n    .dataframe thead th {\n        text-align: right;\n    }\n</style>\n<table border=\"1\" class=\"dataframe\">\n  <thead>\n    <tr style=\"text-align: right;\">\n      <th></th>\n      <th>ds</th>\n      <th>volume</th>\n      <th>vwap</th>\n      <th>transactions</th>\n      <th>log_price</th>\n      <th>rets</th>\n      <th>r_vol</th>\n      <th>MACD</th>\n      <th>rsi</th>\n      <th>B_MA</th>\n    </tr>\n  </thead>\n  <tbody>\n    <tr>\n      <th>65866</th>\n      <td>2018-08-27 20:00:00</td>\n      <td>NaN</td>\n      <td>NaN</td>\n      <td>NaN</td>\n      <td>NaN</td>\n      <td>NaN</td>\n      <td>NaN</td>\n      <td>NaN</td>\n      <td>NaN</td>\n      <td>NaN</td>\n    </tr>\n    <tr>\n      <th>65867</th>\n      <td>2018-08-28 20:00:00</td>\n      <td>NaN</td>\n      <td>NaN</td>\n      <td>NaN</td>\n      <td>NaN</td>\n      <td>NaN</td>\n      <td>NaN</td>\n      <td>NaN</td>\n      <td>NaN</td>\n      <td>NaN</td>\n    </tr>\n    <tr>\n      <th>65868</th>\n      <td>2018-08-29 20:00:00</td>\n      <td>NaN</td>\n      <td>NaN</td>\n      <td>NaN</td>\n      <td>NaN</td>\n      <td>NaN</td>\n      <td>NaN</td>\n      <td>NaN</td>\n      <td>NaN</td>\n      <td>NaN</td>\n    </tr>\n    <tr>\n      <th>65869</th>\n      <td>2018-08-30 20:00:00</td>\n      <td>NaN</td>\n      <td>NaN</td>\n      <td>NaN</td>\n      <td>NaN</td>\n      <td>NaN</td>\n      <td>NaN</td>\n      <td>NaN</td>\n      <td>NaN</td>\n      <td>NaN</td>\n    </tr>\n    <tr>\n      <th>65870</th>\n      <td>2018-08-31 20:00:00</td>\n      <td>NaN</td>\n      <td>NaN</td>\n      <td>NaN</td>\n      <td>NaN</td>\n      <td>NaN</td>\n      <td>NaN</td>\n      <td>NaN</td>\n      <td>NaN</td>\n      <td>NaN</td>\n    </tr>\n  </tbody>\n</table>\n</div>"
     },
     "execution_count": 26,
     "metadata": {},
     "output_type": "execute_result"
    }
   ],
   "source": [
    "future = m.make_future_dataframe(periods = 365)\n",
    "\n",
    "for col in ['volume', 'vwap', 'transactions', 'log_price', 'rets', 'r_vol', 'MACD', 'rsi', 'B_MA']:\n",
    "    future[col] = np.nan\n",
    "\n",
    "future.tail()"
   ],
   "metadata": {
    "collapsed": false,
    "pycharm": {
     "name": "#%%\n"
    }
   }
  },
  {
   "cell_type": "code",
   "execution_count": 31,
   "outputs": [
    {
     "name": "stderr",
     "output_type": "stream",
     "text": [
      "/Users/artemilin/PycharmProjects/pythonProject/venv/lib/python3.9/site-packages/fbprophet/forecaster.py:891: FutureWarning: The frame.append method is deprecated and will be removed from pandas in a future version. Use pandas.concat instead.\n",
      "  components = components.append(new_comp)\n",
      "/Users/artemilin/PycharmProjects/pythonProject/venv/lib/python3.9/site-packages/fbprophet/forecaster.py:891: FutureWarning: The frame.append method is deprecated and will be removed from pandas in a future version. Use pandas.concat instead.\n",
      "  components = components.append(new_comp)\n"
     ]
    }
   ],
   "source": [
    "forecast = m.predict(df_test.drop(columns=['y']))"
   ],
   "metadata": {
    "collapsed": false,
    "pycharm": {
     "name": "#%%\n"
    }
   }
  },
  {
   "cell_type": "code",
   "execution_count": 37,
   "outputs": [
    {
     "data": {
      "text/plain": "                   ds      trend  yhat_lower  yhat_upper  trend_lower  \\\n0 2017-09-01 13:30:00  34.485012   41.207442   41.231612    34.485012   \n1 2017-09-01 13:31:00  34.485013   41.184463   41.209577    34.485013   \n2 2017-09-01 13:32:00  34.485013   41.183296   41.209952    34.485013   \n3 2017-09-01 13:33:00  34.485013   41.190984   41.215452    34.485013   \n4 2017-09-01 13:34:00  34.485013   41.170018   41.195051    34.485013   \n\n   trend_upper      B_MA  B_MA_lower  B_MA_upper      MACD  ...      vwap  \\\n0    34.485012  0.000845    0.000845    0.000845 -0.000008  ...  4.936752   \n1    34.485013  0.000845    0.000845    0.000845 -0.000114  ...  4.945083   \n2    34.485013  0.000846    0.000846    0.000846 -0.000233  ...  4.934670   \n3    34.485013  0.000846    0.000846    0.000846 -0.000307  ...  4.957200   \n4    34.485013  0.000847    0.000847    0.000847 -0.000337  ...  4.940539   \n\n   vwap_lower  vwap_upper    weekly  weekly_lower  weekly_upper  \\\n0    4.936752    4.936752 -0.002179     -0.002179     -0.002179   \n1    4.945083    4.945083 -0.002178     -0.002178     -0.002178   \n2    4.934670    4.934670 -0.002177     -0.002177     -0.002177   \n3    4.957200    4.957200 -0.002176     -0.002176     -0.002176   \n4    4.940539    4.940539 -0.002176     -0.002176     -0.002176   \n\n   multiplicative_terms  multiplicative_terms_lower  \\\n0                   0.0                         0.0   \n1                   0.0                         0.0   \n2                   0.0                         0.0   \n3                   0.0                         0.0   \n4                   0.0                         0.0   \n\n   multiplicative_terms_upper       yhat  \n0                         0.0  41.218886  \n1                         0.0  41.196549  \n2                         0.0  41.196680  \n3                         0.0  41.203494  \n4                         0.0  41.183648  \n\n[5 rows x 49 columns]",
      "text/html": "<div>\n<style scoped>\n    .dataframe tbody tr th:only-of-type {\n        vertical-align: middle;\n    }\n\n    .dataframe tbody tr th {\n        vertical-align: top;\n    }\n\n    .dataframe thead th {\n        text-align: right;\n    }\n</style>\n<table border=\"1\" class=\"dataframe\">\n  <thead>\n    <tr style=\"text-align: right;\">\n      <th></th>\n      <th>ds</th>\n      <th>trend</th>\n      <th>yhat_lower</th>\n      <th>yhat_upper</th>\n      <th>trend_lower</th>\n      <th>trend_upper</th>\n      <th>B_MA</th>\n      <th>B_MA_lower</th>\n      <th>B_MA_upper</th>\n      <th>MACD</th>\n      <th>...</th>\n      <th>vwap</th>\n      <th>vwap_lower</th>\n      <th>vwap_upper</th>\n      <th>weekly</th>\n      <th>weekly_lower</th>\n      <th>weekly_upper</th>\n      <th>multiplicative_terms</th>\n      <th>multiplicative_terms_lower</th>\n      <th>multiplicative_terms_upper</th>\n      <th>yhat</th>\n    </tr>\n  </thead>\n  <tbody>\n    <tr>\n      <th>0</th>\n      <td>2017-09-01 13:30:00</td>\n      <td>34.485012</td>\n      <td>41.207442</td>\n      <td>41.231612</td>\n      <td>34.485012</td>\n      <td>34.485012</td>\n      <td>0.000845</td>\n      <td>0.000845</td>\n      <td>0.000845</td>\n      <td>-0.000008</td>\n      <td>...</td>\n      <td>4.936752</td>\n      <td>4.936752</td>\n      <td>4.936752</td>\n      <td>-0.002179</td>\n      <td>-0.002179</td>\n      <td>-0.002179</td>\n      <td>0.0</td>\n      <td>0.0</td>\n      <td>0.0</td>\n      <td>41.218886</td>\n    </tr>\n    <tr>\n      <th>1</th>\n      <td>2017-09-01 13:31:00</td>\n      <td>34.485013</td>\n      <td>41.184463</td>\n      <td>41.209577</td>\n      <td>34.485013</td>\n      <td>34.485013</td>\n      <td>0.000845</td>\n      <td>0.000845</td>\n      <td>0.000845</td>\n      <td>-0.000114</td>\n      <td>...</td>\n      <td>4.945083</td>\n      <td>4.945083</td>\n      <td>4.945083</td>\n      <td>-0.002178</td>\n      <td>-0.002178</td>\n      <td>-0.002178</td>\n      <td>0.0</td>\n      <td>0.0</td>\n      <td>0.0</td>\n      <td>41.196549</td>\n    </tr>\n    <tr>\n      <th>2</th>\n      <td>2017-09-01 13:32:00</td>\n      <td>34.485013</td>\n      <td>41.183296</td>\n      <td>41.209952</td>\n      <td>34.485013</td>\n      <td>34.485013</td>\n      <td>0.000846</td>\n      <td>0.000846</td>\n      <td>0.000846</td>\n      <td>-0.000233</td>\n      <td>...</td>\n      <td>4.934670</td>\n      <td>4.934670</td>\n      <td>4.934670</td>\n      <td>-0.002177</td>\n      <td>-0.002177</td>\n      <td>-0.002177</td>\n      <td>0.0</td>\n      <td>0.0</td>\n      <td>0.0</td>\n      <td>41.196680</td>\n    </tr>\n    <tr>\n      <th>3</th>\n      <td>2017-09-01 13:33:00</td>\n      <td>34.485013</td>\n      <td>41.190984</td>\n      <td>41.215452</td>\n      <td>34.485013</td>\n      <td>34.485013</td>\n      <td>0.000846</td>\n      <td>0.000846</td>\n      <td>0.000846</td>\n      <td>-0.000307</td>\n      <td>...</td>\n      <td>4.957200</td>\n      <td>4.957200</td>\n      <td>4.957200</td>\n      <td>-0.002176</td>\n      <td>-0.002176</td>\n      <td>-0.002176</td>\n      <td>0.0</td>\n      <td>0.0</td>\n      <td>0.0</td>\n      <td>41.203494</td>\n    </tr>\n    <tr>\n      <th>4</th>\n      <td>2017-09-01 13:34:00</td>\n      <td>34.485013</td>\n      <td>41.170018</td>\n      <td>41.195051</td>\n      <td>34.485013</td>\n      <td>34.485013</td>\n      <td>0.000847</td>\n      <td>0.000847</td>\n      <td>0.000847</td>\n      <td>-0.000337</td>\n      <td>...</td>\n      <td>4.940539</td>\n      <td>4.940539</td>\n      <td>4.940539</td>\n      <td>-0.002176</td>\n      <td>-0.002176</td>\n      <td>-0.002176</td>\n      <td>0.0</td>\n      <td>0.0</td>\n      <td>0.0</td>\n      <td>41.183648</td>\n    </tr>\n  </tbody>\n</table>\n<p>5 rows × 49 columns</p>\n</div>"
     },
     "execution_count": 37,
     "metadata": {},
     "output_type": "execute_result"
    }
   ],
   "source": [
    "forecast.head()"
   ],
   "metadata": {
    "collapsed": false,
    "pycharm": {
     "name": "#%%\n"
    }
   }
  },
  {
   "cell_type": "code",
   "execution_count": 38,
   "outputs": [],
   "source": [
    "forecast = forecast.set_index(pd.DatetimeIndex(forecast['ds']))"
   ],
   "metadata": {
    "collapsed": false,
    "pycharm": {
     "name": "#%%\n"
    }
   }
  },
  {
   "cell_type": "code",
   "execution_count": 40,
   "outputs": [
    {
     "data": {
      "text/plain": "                                     ds      trend  yhat_lower  yhat_upper  \\\nds                                                                           \n2017-09-01 13:30:00 2017-09-01 13:30:00  34.485012   41.207442   41.231612   \n2017-09-01 13:31:00 2017-09-01 13:31:00  34.485013   41.184463   41.209577   \n2017-09-01 13:32:00 2017-09-01 13:32:00  34.485013   41.183296   41.209952   \n2017-09-01 13:33:00 2017-09-01 13:33:00  34.485013   41.190984   41.215452   \n2017-09-01 13:34:00 2017-09-01 13:34:00  34.485013   41.170018   41.195051   \n\n                     trend_lower  trend_upper      B_MA  B_MA_lower  \\\nds                                                                    \n2017-09-01 13:30:00    34.485012    34.485012  0.000845    0.000845   \n2017-09-01 13:31:00    34.485013    34.485013  0.000845    0.000845   \n2017-09-01 13:32:00    34.485013    34.485013  0.000846    0.000846   \n2017-09-01 13:33:00    34.485013    34.485013  0.000846    0.000846   \n2017-09-01 13:34:00    34.485013    34.485013  0.000847    0.000847   \n\n                     B_MA_upper      MACD  ...      vwap  vwap_lower  \\\nds                                         ...                         \n2017-09-01 13:30:00    0.000845 -0.000008  ...  4.936752    4.936752   \n2017-09-01 13:31:00    0.000845 -0.000114  ...  4.945083    4.945083   \n2017-09-01 13:32:00    0.000846 -0.000233  ...  4.934670    4.934670   \n2017-09-01 13:33:00    0.000846 -0.000307  ...  4.957200    4.957200   \n2017-09-01 13:34:00    0.000847 -0.000337  ...  4.940539    4.940539   \n\n                     vwap_upper    weekly  weekly_lower  weekly_upper  \\\nds                                                                      \n2017-09-01 13:30:00    4.936752 -0.002179     -0.002179     -0.002179   \n2017-09-01 13:31:00    4.945083 -0.002178     -0.002178     -0.002178   \n2017-09-01 13:32:00    4.934670 -0.002177     -0.002177     -0.002177   \n2017-09-01 13:33:00    4.957200 -0.002176     -0.002176     -0.002176   \n2017-09-01 13:34:00    4.940539 -0.002176     -0.002176     -0.002176   \n\n                     multiplicative_terms  multiplicative_terms_lower  \\\nds                                                                      \n2017-09-01 13:30:00                   0.0                         0.0   \n2017-09-01 13:31:00                   0.0                         0.0   \n2017-09-01 13:32:00                   0.0                         0.0   \n2017-09-01 13:33:00                   0.0                         0.0   \n2017-09-01 13:34:00                   0.0                         0.0   \n\n                     multiplicative_terms_upper       yhat  \nds                                                          \n2017-09-01 13:30:00                         0.0  41.218886  \n2017-09-01 13:31:00                         0.0  41.196549  \n2017-09-01 13:32:00                         0.0  41.196680  \n2017-09-01 13:33:00                         0.0  41.203494  \n2017-09-01 13:34:00                         0.0  41.183648  \n\n[5 rows x 49 columns]",
      "text/html": "<div>\n<style scoped>\n    .dataframe tbody tr th:only-of-type {\n        vertical-align: middle;\n    }\n\n    .dataframe tbody tr th {\n        vertical-align: top;\n    }\n\n    .dataframe thead th {\n        text-align: right;\n    }\n</style>\n<table border=\"1\" class=\"dataframe\">\n  <thead>\n    <tr style=\"text-align: right;\">\n      <th></th>\n      <th>ds</th>\n      <th>trend</th>\n      <th>yhat_lower</th>\n      <th>yhat_upper</th>\n      <th>trend_lower</th>\n      <th>trend_upper</th>\n      <th>B_MA</th>\n      <th>B_MA_lower</th>\n      <th>B_MA_upper</th>\n      <th>MACD</th>\n      <th>...</th>\n      <th>vwap</th>\n      <th>vwap_lower</th>\n      <th>vwap_upper</th>\n      <th>weekly</th>\n      <th>weekly_lower</th>\n      <th>weekly_upper</th>\n      <th>multiplicative_terms</th>\n      <th>multiplicative_terms_lower</th>\n      <th>multiplicative_terms_upper</th>\n      <th>yhat</th>\n    </tr>\n    <tr>\n      <th>ds</th>\n      <th></th>\n      <th></th>\n      <th></th>\n      <th></th>\n      <th></th>\n      <th></th>\n      <th></th>\n      <th></th>\n      <th></th>\n      <th></th>\n      <th></th>\n      <th></th>\n      <th></th>\n      <th></th>\n      <th></th>\n      <th></th>\n      <th></th>\n      <th></th>\n      <th></th>\n      <th></th>\n      <th></th>\n    </tr>\n  </thead>\n  <tbody>\n    <tr>\n      <th>2017-09-01 13:30:00</th>\n      <td>2017-09-01 13:30:00</td>\n      <td>34.485012</td>\n      <td>41.207442</td>\n      <td>41.231612</td>\n      <td>34.485012</td>\n      <td>34.485012</td>\n      <td>0.000845</td>\n      <td>0.000845</td>\n      <td>0.000845</td>\n      <td>-0.000008</td>\n      <td>...</td>\n      <td>4.936752</td>\n      <td>4.936752</td>\n      <td>4.936752</td>\n      <td>-0.002179</td>\n      <td>-0.002179</td>\n      <td>-0.002179</td>\n      <td>0.0</td>\n      <td>0.0</td>\n      <td>0.0</td>\n      <td>41.218886</td>\n    </tr>\n    <tr>\n      <th>2017-09-01 13:31:00</th>\n      <td>2017-09-01 13:31:00</td>\n      <td>34.485013</td>\n      <td>41.184463</td>\n      <td>41.209577</td>\n      <td>34.485013</td>\n      <td>34.485013</td>\n      <td>0.000845</td>\n      <td>0.000845</td>\n      <td>0.000845</td>\n      <td>-0.000114</td>\n      <td>...</td>\n      <td>4.945083</td>\n      <td>4.945083</td>\n      <td>4.945083</td>\n      <td>-0.002178</td>\n      <td>-0.002178</td>\n      <td>-0.002178</td>\n      <td>0.0</td>\n      <td>0.0</td>\n      <td>0.0</td>\n      <td>41.196549</td>\n    </tr>\n    <tr>\n      <th>2017-09-01 13:32:00</th>\n      <td>2017-09-01 13:32:00</td>\n      <td>34.485013</td>\n      <td>41.183296</td>\n      <td>41.209952</td>\n      <td>34.485013</td>\n      <td>34.485013</td>\n      <td>0.000846</td>\n      <td>0.000846</td>\n      <td>0.000846</td>\n      <td>-0.000233</td>\n      <td>...</td>\n      <td>4.934670</td>\n      <td>4.934670</td>\n      <td>4.934670</td>\n      <td>-0.002177</td>\n      <td>-0.002177</td>\n      <td>-0.002177</td>\n      <td>0.0</td>\n      <td>0.0</td>\n      <td>0.0</td>\n      <td>41.196680</td>\n    </tr>\n    <tr>\n      <th>2017-09-01 13:33:00</th>\n      <td>2017-09-01 13:33:00</td>\n      <td>34.485013</td>\n      <td>41.190984</td>\n      <td>41.215452</td>\n      <td>34.485013</td>\n      <td>34.485013</td>\n      <td>0.000846</td>\n      <td>0.000846</td>\n      <td>0.000846</td>\n      <td>-0.000307</td>\n      <td>...</td>\n      <td>4.957200</td>\n      <td>4.957200</td>\n      <td>4.957200</td>\n      <td>-0.002176</td>\n      <td>-0.002176</td>\n      <td>-0.002176</td>\n      <td>0.0</td>\n      <td>0.0</td>\n      <td>0.0</td>\n      <td>41.203494</td>\n    </tr>\n    <tr>\n      <th>2017-09-01 13:34:00</th>\n      <td>2017-09-01 13:34:00</td>\n      <td>34.485013</td>\n      <td>41.170018</td>\n      <td>41.195051</td>\n      <td>34.485013</td>\n      <td>34.485013</td>\n      <td>0.000847</td>\n      <td>0.000847</td>\n      <td>0.000847</td>\n      <td>-0.000337</td>\n      <td>...</td>\n      <td>4.940539</td>\n      <td>4.940539</td>\n      <td>4.940539</td>\n      <td>-0.002176</td>\n      <td>-0.002176</td>\n      <td>-0.002176</td>\n      <td>0.0</td>\n      <td>0.0</td>\n      <td>0.0</td>\n      <td>41.183648</td>\n    </tr>\n  </tbody>\n</table>\n<p>5 rows × 49 columns</p>\n</div>"
     },
     "execution_count": 40,
     "metadata": {},
     "output_type": "execute_result"
    }
   ],
   "source": [
    "forecast.head()"
   ],
   "metadata": {
    "collapsed": false,
    "pycharm": {
     "name": "#%%\n"
    }
   }
  },
  {
   "cell_type": "code",
   "execution_count": 42,
   "outputs": [],
   "source": [
    "df_test = df_test.set_index(pd.DatetimeIndex(df_test['ds']))"
   ],
   "metadata": {
    "collapsed": false,
    "pycharm": {
     "name": "#%%\n"
    }
   }
  },
  {
   "cell_type": "code",
   "execution_count": 45,
   "outputs": [
    {
     "data": {
      "text/plain": "<AxesSubplot:>"
     },
     "execution_count": 45,
     "metadata": {},
     "output_type": "execute_result"
    },
    {
     "data": {
      "text/plain": "<Figure size 1200x600 with 2 Axes>",
      "image/png": "[encoded data removed]"
     },
     "metadata": {},
     "output_type": "display_data"
    }
   ],
   "source": [
    "forecast['yhat'].plot(label=\"Forecast\", figsize=(12,6), legend=True)\n",
    "df_test['y'].plot(label=\"Test\", legend=True, secondary_y=True)"
   ],
   "metadata": {
    "collapsed": false,
    "pycharm": {
     "name": "#%%\n"
    }
   }
  },
  {
   "cell_type": "code",
   "execution_count": 46,
   "outputs": [
    {
     "name": "stdout",
     "output_type": "stream",
     "text": [
      "MAPE: 0.0004915016486198822\n"
     ]
    }
   ],
   "source": [
    "from sklearn.metrics import mean_absolute_percentage_error\n",
    "print(f'MAPE: {mean_absolute_percentage_error(df_test.y, forecast.yhat)}')"
   ],
   "metadata": {
    "collapsed": false,
    "pycharm": {
     "name": "#%%\n"
    }
   }
  },
  {
   "cell_type": "code",
   "execution_count": null,
   "outputs": [],
   "source": [],
   "metadata": {
    "collapsed": false,
    "pycharm": {
     "name": "#%%\n"
    }
   }
  }
 ],
 "metadata": {
  "kernelspec": {
   "display_name": "Python 3",
   "language": "python",
   "name": "python3"
  },
  "language_info": {
   "codemirror_mode": {
    "name": "ipython",
    "version": 2
   },
   "file_extension": ".py",
   "mimetype": "text/x-python",
   "name": "python",
   "nbconvert_exporter": "python",
   "pygments_lexer": "ipython2",
   "version": "2.7.6"
  }
 },
 "nbformat": 4,
 "nbformat_minor": 0
}