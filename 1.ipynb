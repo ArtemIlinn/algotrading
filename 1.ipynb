{
 "cells": [
  {
   "cell_type": "code",
   "execution_count": 3,
   "outputs": [],
   "source": [
    "import os\n",
    "import pandas as pd\n",
    "import numpy as np\n",
    "import seaborn as sns\n",
    "import matplotlib.pyplot as plt\n",
    "import tensorflow as tf\n",
    "from tensorflow import keras\n",
    "from tensorflow.keras import layers\n",
    "from sklearn.preprocessing import MinMaxScaler\n",
    "import math\n",
    "\n",
    "path = '/Users/artemilin/Downloads/data'"
   ],
   "metadata": {
    "collapsed": false,
    "pycharm": {
     "name": "#%%\n"
    }
   }
  },
  {
   "cell_type": "code",
   "execution_count": 3,
   "outputs": [],
   "source": [
    "companies_of_choice = ['AAPL.csv',  ## Apple\n",
    "                       'AMZN.csv',  ## Amazon\n",
    "                       'FB.csv',  ## Facebook (now META)\n",
    "                       'GOOGL.csv',  ## Google Alphabet Inc.\n",
    "                       'MSFT.csv',  ## Microsoft\n",
    "                       'NFLX.csv',  ## Netflix\n",
    "                       'NVDA.csv',  ## Nvidia\n",
    "                       'TSLA.csv'  ## Tesla\n",
    "                       ]"
   ],
   "metadata": {
    "collapsed": false,
    "pycharm": {
     "name": "#%%\n"
    }
   }
  },
  {
   "cell_type": "code",
   "execution_count": 4,
   "outputs": [],
   "source": [
    "all_dfs = []\n",
    "shapes_of_tickers_dfs = {}\n",
    "\n",
    "for ticker in companies_of_choice:\n",
    "    dirs = []\n",
    "    for year in ['2017', '2018', '2019', '2021']:\n",
    "        dirs.append(f'{path}/{year}/{ticker}')\n",
    "\n",
    "    df_ticker = pd.concat(\n",
    "        map(pd.read_csv, dirs), ignore_index=True)\n",
    "    #df_ticker['date'] = pd.to_datetime(df_ticker['date'])\n",
    "    shapes_of_tickers_dfs[ticker] = df_ticker.shape\n",
    "\n",
    "    all_dfs.append(df_ticker.add_prefix(f'{ticker.split(\".\")[0]}_'))\n",
    "\n",
    "df = pd.concat(all_dfs, axis=1)"
   ],
   "metadata": {
    "collapsed": false,
    "pycharm": {
     "name": "#%%\n"
    }
   }
  },
  {
   "cell_type": "code",
   "execution_count": 100,
   "outputs": [
    {
     "data": {
      "text/plain": "                        AAPL_date  AAPL_open  AAPL_high  AAPL_low  AAPL_close  \\\n0       2017-01-03 09:30:00-05:00    28.9500    28.9750   28.8750     28.9713   \n1       2017-01-03 09:31:00-05:00    28.9750    29.0625   28.9475     29.0622   \n2       2017-01-03 09:32:00-05:00    29.0625    29.0825   29.0575     29.0750   \n3       2017-01-03 09:33:00-05:00    29.0750    29.0750   29.0050     29.0276   \n4       2017-01-03 09:34:00-05:00    29.0273    29.0600   29.0273     29.0375   \n...                           ...        ...        ...       ...         ...   \n404432  2020-12-31 15:56:00-05:00   132.6500   132.8200  132.6500    132.7693   \n404433  2020-12-31 15:57:00-05:00   132.7700   132.9200  132.7600    132.8408   \n404434  2020-12-31 15:58:00-05:00   132.8400   132.9200  132.8300    132.8600   \n404435  2020-12-31 15:59:00-05:00   132.8650   133.0000  132.5500    132.5800   \n404436  2020-12-31 16:00:00-05:00   132.6900   132.8900  132.6500    132.8000   \n\n        AAPL_volume  AAPL_vwap  AAPL_timestamp  AAPL_transactions  AAPL_otc  \\\n0         3851984.0    28.9422   1483453800000             1970.0       NaN   \n1          997416.0    29.0088   1483453860000             1050.0       NaN   \n2          653408.0    29.0686   1483453920000              700.0       NaN   \n3         1005592.0    29.0285   1483453980000             1049.0       NaN   \n4          667760.0    29.0412   1483454040000              929.0       NaN   \n...             ...        ...             ...                ...       ...   \n404432     513816.0   132.7459   1609448160000             3191.0       NaN   \n404433     505929.0   132.8310   1609448220000             3527.0       NaN   \n404434     517398.0   132.8745   1609448280000             3472.0       NaN   \n404435    1698250.0   132.8086   1609448340000             8187.0       NaN   \n404436     377376.0   132.6997   1609448400000              174.0       NaN   \n\n        ...                  TSLA_date  TSLA_open  TSLA_high  TSLA_low  \\\n0       ...  2017-01-03 09:30:00-05:00    14.3240    14.3533   14.2800   \n1       ...  2017-01-03 09:31:00-05:00    14.2800    14.2987   14.2500   \n2       ...  2017-01-03 09:32:00-05:00    14.2500    14.2500   14.1720   \n3       ...  2017-01-03 09:33:00-05:00    14.1853    14.2020   14.0913   \n4       ...  2017-01-03 09:34:00-05:00    14.0933    14.1253   14.0640   \n...     ...                        ...        ...        ...       ...   \n404432  ...                        NaN        NaN        NaN       NaN   \n404433  ...                        NaN        NaN        NaN       NaN   \n404434  ...                        NaN        NaN        NaN       NaN   \n404435  ...                        NaN        NaN        NaN       NaN   \n404436  ...                        NaN        NaN        NaN       NaN   \n\n        TSLA_close  TSLA_volume  TSLA_vwap  TSLA_timestamp  TSLA_transactions  \\\n0          14.2840    1360425.0    14.3219    1.483454e+12              367.0   \n1          14.2500     756270.0    14.2741    1.483454e+12              497.0   \n2          14.1893     702690.0    14.2128    1.483454e+12              550.0   \n3          14.1000    1084935.0    14.1462    1.483454e+12              599.0   \n4          14.1193    1251645.0    14.0868    1.483454e+12              689.0   \n...            ...          ...        ...             ...                ...   \n404432         NaN          NaN        NaN             NaN                NaN   \n404433         NaN          NaN        NaN             NaN                NaN   \n404434         NaN          NaN        NaN             NaN                NaN   \n404435         NaN          NaN        NaN             NaN                NaN   \n404436         NaN          NaN        NaN             NaN                NaN   \n\n        TSLA_otc  \n0            NaN  \n1            NaN  \n2            NaN  \n3            NaN  \n4            NaN  \n...          ...  \n404432       NaN  \n404433       NaN  \n404434       NaN  \n404435       NaN  \n404436       NaN  \n\n[404437 rows x 80 columns]",
      "text/html": "<div>\n<style scoped>\n    .dataframe tbody tr th:only-of-type {\n        vertical-align: middle;\n    }\n\n    .dataframe tbody tr th {\n        vertical-align: top;\n    }\n\n    .dataframe thead th {\n        text-align: right;\n    }\n</style>\n<table border=\"1\" class=\"dataframe\">\n  <thead>\n    <tr style=\"text-align: right;\">\n      <th></th>\n      <th>AAPL_date</th>\n      <th>AAPL_open</th>\n      <th>AAPL_high</th>\n      <th>AAPL_low</th>\n      <th>AAPL_close</th>\n      <th>AAPL_volume</th>\n      <th>AAPL_vwap</th>\n      <th>AAPL_timestamp</th>\n      <th>AAPL_transactions</th>\n      <th>AAPL_otc</th>\n      <th>...</th>\n      <th>TSLA_date</th>\n      <th>TSLA_open</th>\n      <th>TSLA_high</th>\n      <th>TSLA_low</th>\n      <th>TSLA_close</th>\n      <th>TSLA_volume</th>\n      <th>TSLA_vwap</th>\n      <th>TSLA_timestamp</th>\n      <th>TSLA_transactions</th>\n      <th>TSLA_otc</th>\n    </tr>\n  </thead>\n  <tbody>\n    <tr>\n      <th>0</th>\n      <td>2017-01-03 09:30:00-05:00</td>\n      <td>28.9500</td>\n      <td>28.9750</td>\n      <td>28.8750</td>\n      <td>28.9713</td>\n      <td>3851984.0</td>\n      <td>28.9422</td>\n      <td>1483453800000</td>\n      <td>1970.0</td>\n      <td>NaN</td>\n      <td>...</td>\n      <td>2017-01-03 09:30:00-05:00</td>\n      <td>14.3240</td>\n      <td>14.3533</td>\n      <td>14.2800</td>\n      <td>14.2840</td>\n      <td>1360425.0</td>\n      <td>14.3219</td>\n      <td>1.483454e+12</td>\n      <td>367.0</td>\n      <td>NaN</td>\n    </tr>\n    <tr>\n      <th>1</th>\n      <td>2017-01-03 09:31:00-05:00</td>\n      <td>28.9750</td>\n      <td>29.0625</td>\n      <td>28.9475</td>\n      <td>29.0622</td>\n      <td>997416.0</td>\n      <td>29.0088</td>\n      <td>1483453860000</td>\n      <td>1050.0</td>\n      <td>NaN</td>\n      <td>...</td>\n      <td>2017-01-03 09:31:00-05:00</td>\n      <td>14.2800</td>\n      <td>14.2987</td>\n      <td>14.2500</td>\n      <td>14.2500</td>\n      <td>756270.0</td>\n      <td>14.2741</td>\n      <td>1.483454e+12</td>\n      <td>497.0</td>\n      <td>NaN</td>\n    </tr>\n    <tr>\n      <th>2</th>\n      <td>2017-01-03 09:32:00-05:00</td>\n      <td>29.0625</td>\n      <td>29.0825</td>\n      <td>29.0575</td>\n      <td>29.0750</td>\n      <td>653408.0</td>\n      <td>29.0686</td>\n      <td>1483453920000</td>\n      <td>700.0</td>\n      <td>NaN</td>\n      <td>...</td>\n      <td>2017-01-03 09:32:00-05:00</td>\n      <td>14.2500</td>\n      <td>14.2500</td>\n      <td>14.1720</td>\n      <td>14.1893</td>\n      <td>702690.0</td>\n      <td>14.2128</td>\n      <td>1.483454e+12</td>\n      <td>550.0</td>\n      <td>NaN</td>\n    </tr>\n    <tr>\n      <th>3</th>\n      <td>2017-01-03 09:33:00-05:00</td>\n      <td>29.0750</td>\n      <td>29.0750</td>\n      <td>29.0050</td>\n      <td>29.0276</td>\n      <td>1005592.0</td>\n      <td>29.0285</td>\n      <td>1483453980000</td>\n      <td>1049.0</td>\n      <td>NaN</td>\n      <td>...</td>\n      <td>2017-01-03 09:33:00-05:00</td>\n      <td>14.1853</td>\n      <td>14.2020</td>\n      <td>14.0913</td>\n      <td>14.1000</td>\n      <td>1084935.0</td>\n      <td>14.1462</td>\n      <td>1.483454e+12</td>\n      <td>599.0</td>\n      <td>NaN</td>\n    </tr>\n    <tr>\n      <th>4</th>\n      <td>2017-01-03 09:34:00-05:00</td>\n      <td>29.0273</td>\n      <td>29.0600</td>\n      <td>29.0273</td>\n      <td>29.0375</td>\n      <td>667760.0</td>\n      <td>29.0412</td>\n      <td>1483454040000</td>\n      <td>929.0</td>\n      <td>NaN</td>\n      <td>...</td>\n      <td>2017-01-03 09:34:00-05:00</td>\n      <td>14.0933</td>\n      <td>14.1253</td>\n      <td>14.0640</td>\n      <td>14.1193</td>\n      <td>1251645.0</td>\n      <td>14.0868</td>\n      <td>1.483454e+12</td>\n      <td>689.0</td>\n      <td>NaN</td>\n    </tr>\n    <tr>\n      <th>...</th>\n      <td>...</td>\n      <td>...</td>\n      <td>...</td>\n      <td>...</td>\n      <td>...</td>\n      <td>...</td>\n      <td>...</td>\n      <td>...</td>\n      <td>...</td>\n      <td>...</td>\n      <td>...</td>\n      <td>...</td>\n      <td>...</td>\n      <td>...</td>\n      <td>...</td>\n      <td>...</td>\n      <td>...</td>\n      <td>...</td>\n      <td>...</td>\n      <td>...</td>\n      <td>...</td>\n    </tr>\n    <tr>\n      <th>404432</th>\n      <td>2020-12-31 15:56:00-05:00</td>\n      <td>132.6500</td>\n      <td>132.8200</td>\n      <td>132.6500</td>\n      <td>132.7693</td>\n      <td>513816.0</td>\n      <td>132.7459</td>\n      <td>1609448160000</td>\n      <td>3191.0</td>\n      <td>NaN</td>\n      <td>...</td>\n      <td>NaN</td>\n      <td>NaN</td>\n      <td>NaN</td>\n      <td>NaN</td>\n      <td>NaN</td>\n      <td>NaN</td>\n      <td>NaN</td>\n      <td>NaN</td>\n      <td>NaN</td>\n      <td>NaN</td>\n    </tr>\n    <tr>\n      <th>404433</th>\n      <td>2020-12-31 15:57:00-05:00</td>\n      <td>132.7700</td>\n      <td>132.9200</td>\n      <td>132.7600</td>\n      <td>132.8408</td>\n      <td>505929.0</td>\n      <td>132.8310</td>\n      <td>1609448220000</td>\n      <td>3527.0</td>\n      <td>NaN</td>\n      <td>...</td>\n      <td>NaN</td>\n      <td>NaN</td>\n      <td>NaN</td>\n      <td>NaN</td>\n      <td>NaN</td>\n      <td>NaN</td>\n      <td>NaN</td>\n      <td>NaN</td>\n      <td>NaN</td>\n      <td>NaN</td>\n    </tr>\n    <tr>\n      <th>404434</th>\n      <td>2020-12-31 15:58:00-05:00</td>\n      <td>132.8400</td>\n      <td>132.9200</td>\n      <td>132.8300</td>\n      <td>132.8600</td>\n      <td>517398.0</td>\n      <td>132.8745</td>\n      <td>1609448280000</td>\n      <td>3472.0</td>\n      <td>NaN</td>\n      <td>...</td>\n      <td>NaN</td>\n      <td>NaN</td>\n      <td>NaN</td>\n      <td>NaN</td>\n      <td>NaN</td>\n      <td>NaN</td>\n      <td>NaN</td>\n      <td>NaN</td>\n      <td>NaN</td>\n      <td>NaN</td>\n    </tr>\n    <tr>\n      <th>404435</th>\n      <td>2020-12-31 15:59:00-05:00</td>\n      <td>132.8650</td>\n      <td>133.0000</td>\n      <td>132.5500</td>\n      <td>132.5800</td>\n      <td>1698250.0</td>\n      <td>132.8086</td>\n      <td>1609448340000</td>\n      <td>8187.0</td>\n      <td>NaN</td>\n      <td>...</td>\n      <td>NaN</td>\n      <td>NaN</td>\n      <td>NaN</td>\n      <td>NaN</td>\n      <td>NaN</td>\n      <td>NaN</td>\n      <td>NaN</td>\n      <td>NaN</td>\n      <td>NaN</td>\n      <td>NaN</td>\n    </tr>\n    <tr>\n      <th>404436</th>\n      <td>2020-12-31 16:00:00-05:00</td>\n      <td>132.6900</td>\n      <td>132.8900</td>\n      <td>132.6500</td>\n      <td>132.8000</td>\n      <td>377376.0</td>\n      <td>132.6997</td>\n      <td>1609448400000</td>\n      <td>174.0</td>\n      <td>NaN</td>\n      <td>...</td>\n      <td>NaN</td>\n      <td>NaN</td>\n      <td>NaN</td>\n      <td>NaN</td>\n      <td>NaN</td>\n      <td>NaN</td>\n      <td>NaN</td>\n      <td>NaN</td>\n      <td>NaN</td>\n      <td>NaN</td>\n    </tr>\n  </tbody>\n</table>\n<p>404437 rows × 80 columns</p>\n</div>"
     },
     "execution_count": 100,
     "metadata": {},
     "output_type": "execute_result"
    }
   ],
   "source": [
    "df"
   ],
   "metadata": {
    "collapsed": false,
    "pycharm": {
     "name": "#%%\n"
    }
   }
  },
  {
   "cell_type": "code",
   "execution_count": 101,
   "outputs": [
    {
     "name": "stderr",
     "output_type": "stream",
     "text": [
      "/var/folders/xd/xm863f553v750zss70sl77sc0000gn/T/ipykernel_3033/3678151825.py:2: SettingWithCopyWarning: \n",
      "A value is trying to be set on a copy of a slice from a DataFrame.\n",
      "Try using .loc[row_indexer,col_indexer] = value instead\n",
      "\n",
      "See the caveats in the documentation: https://pandas.pydata.org/pandas-docs/stable/user_guide/indexing.html#returning-a-view-versus-a-copy\n",
      "  df_AAPL[['AAPL_date']] = df_AAPL[['AAPL_date']]\n"
     ]
    }
   ],
   "source": [
    "df_AAPL = df[['AAPL_date', 'AAPL_open', 'AAPL_high', 'AAPL_low', 'AAPL_close', 'AAPL_volume', 'AAPL_vwap',\n",
    "              'AAPL_transactions']]  # 'AAPL_timestamp',\n",
    "df_AAPL[['AAPL_date']] = df_AAPL[['AAPL_date']]"
   ],
   "metadata": {
    "collapsed": false,
    "pycharm": {
     "name": "#%%\n"
    }
   }
  },
  {
   "cell_type": "code",
   "execution_count": 102,
   "outputs": [],
   "source": [
    "df_AAPL = df_AAPL.dropna()\n",
    "df_AAPL[\"AAPL_OBV\"] = (np.sign(df_AAPL[\"AAPL_close\"].diff()) * df_AAPL[\"AAPL_volume\"]).fillna(0).cumsum()"
   ],
   "metadata": {
    "collapsed": false,
    "pycharm": {
     "name": "#%%\n"
    }
   }
  },
  {
   "cell_type": "code",
   "execution_count": 103,
   "outputs": [],
   "source": [
    "df_AAPL[\"AAPL_r\"] = df_AAPL[\"AAPL_close\"].pct_change()\n",
    "df_AAPL = df_AAPL.iloc[1:]"
   ],
   "metadata": {
    "collapsed": false,
    "pycharm": {
     "name": "#%%\n"
    }
   }
  },
  {
   "cell_type": "code",
   "execution_count": 105,
   "outputs": [],
   "source": [
    "returns = df_AAPL[\"AAPL_close\"]\n",
    "vols = returns.rolling(60).std(ddof=0)"
   ],
   "metadata": {
    "collapsed": false,
    "pycharm": {
     "name": "#%%\n"
    }
   }
  },
  {
   "cell_type": "code",
   "execution_count": 106,
   "outputs": [],
   "source": [
    "df_AAPL['AAPL_vol'] = pd.DataFrame(vols)"
   ],
   "metadata": {
    "collapsed": false,
    "pycharm": {
     "name": "#%%\n"
    }
   }
  },
  {
   "cell_type": "code",
   "execution_count": 107,
   "outputs": [],
   "source": [
    "df_AAPL['AAPL_vol'].fillna((df_AAPL['AAPL_vol'].mean()), inplace=True)"
   ],
   "metadata": {
    "collapsed": false,
    "pycharm": {
     "name": "#%%\n"
    }
   }
  },
  {
   "cell_type": "code",
   "execution_count": 115,
   "outputs": [],
   "source": [
    "exp1 = df_AAPL['AAPL_close'].ewm(span=12, adjust=False).mean()\n",
    "exp2 = df_AAPL['AAPL_close'].ewm(span=26, adjust=False).mean()\n",
    "macd = exp1 - exp2\n",
    "df_AAPL['AAPL_MACD'] = macd"
   ],
   "metadata": {
    "collapsed": false,
    "pycharm": {
     "name": "#%%\n"
    }
   }
  },
  {
   "cell_type": "code",
   "execution_count": null,
   "outputs": [],
   "source": [
    "def VaR_historic(r, level=5):\n",
    "    if isinstance(r, pd.DataFrame):\n",
    "        return r.aggregate(VaR_historic, level=level)\n",
    "    elif isinstance(r, pd.Series):\n",
    "        return -np.percentile(r, level)\n",
    "    else:\n",
    "        raise TypeError(\"Expected r to be a Series or DataFrame\")\n",
    "\n",
    "\n",
    "VaRs = df_AAPL['AAPL_r'].rolling(60)\n",
    "\n",
    "df_AAPL['AAPL_VaR'] = pd.DataFrame(VaRs)\n",
    "df_AAPL['AAPL_VaR'].fillna((df_AAPL['AAPL_VaR'].mean()), inplace=True)"
   ],
   "metadata": {
    "collapsed": false,
    "pycharm": {
     "name": "#%%\n",
     "is_executing": true
    }
   }
  },
  {
   "cell_type": "code",
   "execution_count": 116,
   "outputs": [
    {
     "data": {
      "text/plain": "                        AAPL_date  AAPL_open  AAPL_high  AAPL_low  AAPL_close  \\\n1       2017-01-03 09:31:00-05:00    28.9750    29.0625   28.9475     29.0622   \n2       2017-01-03 09:32:00-05:00    29.0625    29.0825   29.0575     29.0750   \n3       2017-01-03 09:33:00-05:00    29.0750    29.0750   29.0050     29.0276   \n4       2017-01-03 09:34:00-05:00    29.0273    29.0600   29.0273     29.0375   \n5       2017-01-03 09:35:00-05:00    29.0375    29.0625   29.0200     29.0375   \n...                           ...        ...        ...       ...         ...   \n404432  2020-12-31 15:56:00-05:00   132.6500   132.8200  132.6500    132.7693   \n404433  2020-12-31 15:57:00-05:00   132.7700   132.9200  132.7600    132.8408   \n404434  2020-12-31 15:58:00-05:00   132.8400   132.9200  132.8300    132.8600   \n404435  2020-12-31 15:59:00-05:00   132.8650   133.0000  132.5500    132.5800   \n404436  2020-12-31 16:00:00-05:00   132.6900   132.8900  132.6500    132.8000   \n\n        AAPL_volume  AAPL_vwap  AAPL_transactions      AAPL_OBV    AAPL_r  \\\n1          997416.0    29.0088             1050.0  9.974160e+05  0.003138   \n2          653408.0    29.0686              700.0  1.650824e+06  0.000440   \n3         1005592.0    29.0285             1049.0  6.452320e+05 -0.001630   \n4          667760.0    29.0412              929.0  1.312992e+06  0.000341   \n5          779004.0    29.0435             1434.0  1.312992e+06  0.000000   \n...             ...        ...                ...           ...       ...   \n404432     513816.0   132.7459             3191.0  2.449499e+09  0.000975   \n404433     505929.0   132.8310             3527.0  2.450005e+09  0.000539   \n404434     517398.0   132.8745             3472.0  2.450522e+09  0.000145   \n404435    1698250.0   132.8086             8187.0  2.448824e+09 -0.002107   \n404436     377376.0   132.6997              174.0  2.449201e+09  0.001659   \n\n        AAPL_vol  AAPL_MACD  \n1       0.121026   0.000000  \n2       0.121026   0.001021  \n3       0.121026  -0.001972  \n4       0.121026  -0.003504  \n5       0.121026  -0.004665  \n...          ...        ...  \n404432  0.165031   0.009497  \n404433  0.164771   0.010779  \n404434  0.164407   0.013192  \n404435  0.167120  -0.007404  \n404436  0.164125  -0.005906  \n\n[404434 rows x 12 columns]",
      "text/html": "<div>\n<style scoped>\n    .dataframe tbody tr th:only-of-type {\n        vertical-align: middle;\n    }\n\n    .dataframe tbody tr th {\n        vertical-align: top;\n    }\n\n    .dataframe thead th {\n        text-align: right;\n    }\n</style>\n<table border=\"1\" class=\"dataframe\">\n  <thead>\n    <tr style=\"text-align: right;\">\n      <th></th>\n      <th>AAPL_date</th>\n      <th>AAPL_open</th>\n      <th>AAPL_high</th>\n      <th>AAPL_low</th>\n      <th>AAPL_close</th>\n      <th>AAPL_volume</th>\n      <th>AAPL_vwap</th>\n      <th>AAPL_transactions</th>\n      <th>AAPL_OBV</th>\n      <th>AAPL_r</th>\n      <th>AAPL_vol</th>\n      <th>AAPL_MACD</th>\n    </tr>\n  </thead>\n  <tbody>\n    <tr>\n      <th>1</th>\n      <td>2017-01-03 09:31:00-05:00</td>\n      <td>28.9750</td>\n      <td>29.0625</td>\n      <td>28.9475</td>\n      <td>29.0622</td>\n      <td>997416.0</td>\n      <td>29.0088</td>\n      <td>1050.0</td>\n      <td>9.974160e+05</td>\n      <td>0.003138</td>\n      <td>0.121026</td>\n      <td>0.000000</td>\n    </tr>\n    <tr>\n      <th>2</th>\n      <td>2017-01-03 09:32:00-05:00</td>\n      <td>29.0625</td>\n      <td>29.0825</td>\n      <td>29.0575</td>\n      <td>29.0750</td>\n      <td>653408.0</td>\n      <td>29.0686</td>\n      <td>700.0</td>\n      <td>1.650824e+06</td>\n      <td>0.000440</td>\n      <td>0.121026</td>\n      <td>0.001021</td>\n    </tr>\n    <tr>\n      <th>3</th>\n      <td>2017-01-03 09:33:00-05:00</td>\n      <td>29.0750</td>\n      <td>29.0750</td>\n      <td>29.0050</td>\n      <td>29.0276</td>\n      <td>1005592.0</td>\n      <td>29.0285</td>\n      <td>1049.0</td>\n      <td>6.452320e+05</td>\n      <td>-0.001630</td>\n      <td>0.121026</td>\n      <td>-0.001972</td>\n    </tr>\n    <tr>\n      <th>4</th>\n      <td>2017-01-03 09:34:00-05:00</td>\n      <td>29.0273</td>\n      <td>29.0600</td>\n      <td>29.0273</td>\n      <td>29.0375</td>\n      <td>667760.0</td>\n      <td>29.0412</td>\n      <td>929.0</td>\n      <td>1.312992e+06</td>\n      <td>0.000341</td>\n      <td>0.121026</td>\n      <td>-0.003504</td>\n    </tr>\n    <tr>\n      <th>5</th>\n      <td>2017-01-03 09:35:00-05:00</td>\n      <td>29.0375</td>\n      <td>29.0625</td>\n      <td>29.0200</td>\n      <td>29.0375</td>\n      <td>779004.0</td>\n      <td>29.0435</td>\n      <td>1434.0</td>\n      <td>1.312992e+06</td>\n      <td>0.000000</td>\n      <td>0.121026</td>\n      <td>-0.004665</td>\n    </tr>\n    <tr>\n      <th>...</th>\n      <td>...</td>\n      <td>...</td>\n      <td>...</td>\n      <td>...</td>\n      <td>...</td>\n      <td>...</td>\n      <td>...</td>\n      <td>...</td>\n      <td>...</td>\n      <td>...</td>\n      <td>...</td>\n      <td>...</td>\n    </tr>\n    <tr>\n      <th>404432</th>\n      <td>2020-12-31 15:56:00-05:00</td>\n      <td>132.6500</td>\n      <td>132.8200</td>\n      <td>132.6500</td>\n      <td>132.7693</td>\n      <td>513816.0</td>\n      <td>132.7459</td>\n      <td>3191.0</td>\n      <td>2.449499e+09</td>\n      <td>0.000975</td>\n      <td>0.165031</td>\n      <td>0.009497</td>\n    </tr>\n    <tr>\n      <th>404433</th>\n      <td>2020-12-31 15:57:00-05:00</td>\n      <td>132.7700</td>\n      <td>132.9200</td>\n      <td>132.7600</td>\n      <td>132.8408</td>\n      <td>505929.0</td>\n      <td>132.8310</td>\n      <td>3527.0</td>\n      <td>2.450005e+09</td>\n      <td>0.000539</td>\n      <td>0.164771</td>\n      <td>0.010779</td>\n    </tr>\n    <tr>\n      <th>404434</th>\n      <td>2020-12-31 15:58:00-05:00</td>\n      <td>132.8400</td>\n      <td>132.9200</td>\n      <td>132.8300</td>\n      <td>132.8600</td>\n      <td>517398.0</td>\n      <td>132.8745</td>\n      <td>3472.0</td>\n      <td>2.450522e+09</td>\n      <td>0.000145</td>\n      <td>0.164407</td>\n      <td>0.013192</td>\n    </tr>\n    <tr>\n      <th>404435</th>\n      <td>2020-12-31 15:59:00-05:00</td>\n      <td>132.8650</td>\n      <td>133.0000</td>\n      <td>132.5500</td>\n      <td>132.5800</td>\n      <td>1698250.0</td>\n      <td>132.8086</td>\n      <td>8187.0</td>\n      <td>2.448824e+09</td>\n      <td>-0.002107</td>\n      <td>0.167120</td>\n      <td>-0.007404</td>\n    </tr>\n    <tr>\n      <th>404436</th>\n      <td>2020-12-31 16:00:00-05:00</td>\n      <td>132.6900</td>\n      <td>132.8900</td>\n      <td>132.6500</td>\n      <td>132.8000</td>\n      <td>377376.0</td>\n      <td>132.6997</td>\n      <td>174.0</td>\n      <td>2.449201e+09</td>\n      <td>0.001659</td>\n      <td>0.164125</td>\n      <td>-0.005906</td>\n    </tr>\n  </tbody>\n</table>\n<p>404434 rows × 12 columns</p>\n</div>"
     },
     "execution_count": 116,
     "metadata": {},
     "output_type": "execute_result"
    }
   ],
   "source": [
    "df_AAPL"
   ],
   "metadata": {
    "collapsed": false,
    "pycharm": {
     "name": "#%%\n"
    }
   }
  },
  {
   "cell_type": "code",
   "execution_count": 123,
   "outputs": [
    {
     "data": {
      "text/plain": "Text(0, 0.5, 'Prices ($)')"
     },
     "execution_count": 123,
     "metadata": {},
     "output_type": "execute_result"
    },
    {
     "data": {
      "text/plain": "<Figure size 2000x800 with 1 Axes>",
      "image/png": "[encoded data removed]"
     },
     "metadata": {},
     "output_type": "display_data"
    }
   ],
   "source": [
    "plt.figure(figsize=(20, 8))\n",
    "plt.title('Stock Prices History')\n",
    "plt.plot(df_AAPL[['AAPL_close']])\n",
    "plt.xlabel('Date')\n",
    "plt.ylabel('Prices ($)')"
   ],
   "metadata": {
    "collapsed": false,
    "pycharm": {
     "name": "#%%\n"
    }
   }
  },
  {
   "cell_type": "code",
   "execution_count": 126,
   "outputs": [
    {
     "data": {
      "text/plain": "Index(['AAPL_date', 'AAPL_open', 'AAPL_high', 'AAPL_low', 'AAPL_close',\n       'AAPL_volume', 'AAPL_vwap', 'AAPL_transactions', 'AAPL_OBV', 'AAPL_r',\n       'AAPL_vol', 'AAPL_MACD'],\n      dtype='object')"
     },
     "execution_count": 126,
     "metadata": {},
     "output_type": "execute_result"
    }
   ],
   "source": [
    "df_AAPL.columns"
   ],
   "metadata": {
    "collapsed": false,
    "pycharm": {
     "name": "#%%\n"
    }
   }
  },
  {
   "cell_type": "code",
   "execution_count": 128,
   "outputs": [],
   "source": [
    "close_prices = df_AAPL['AAPL_close']\n",
    "values = close_prices.values\n",
    "training_data_len = math.ceil(len(values) * 0.8)\n",
    "\n",
    "scaled_data = MinMaxScaler(feature_range=(0, 1)).fit_transform(values.reshape(-1, 1))\n",
    "train_data = scaled_data[0: training_data_len, :]\n",
    "\n",
    "x_train = []\n",
    "y_train = []\n",
    "\n",
    "for i in range(60, len(train_data)):\n",
    "    x_train.append(train_data[i - 60:i, 0])\n",
    "    y_train.append(train_data[i, 0])\n",
    "\n",
    "x_train, y_train = np.array(x_train), np.array(y_train)\n",
    "x_train = np.reshape(x_train, (x_train.shape[0], x_train.shape[1], 1))"
   ],
   "metadata": {
    "collapsed": false,
    "pycharm": {
     "name": "#%%\n"
    }
   }
  },
  {
   "cell_type": "code",
   "execution_count": 129,
   "outputs": [],
   "source": [
    "test_data = scaled_data[training_data_len - 60:, :]\n",
    "x_test = []\n",
    "y_test = values[training_data_len:]\n",
    "\n",
    "for i in range(60, len(test_data)):\n",
    "    x_test.append(test_data[i - 60:i, 0])\n",
    "\n",
    "x_test = np.array(x_test)\n",
    "x_test = np.reshape(x_test, (x_test.shape[0], x_test.shape[1], 1))"
   ],
   "metadata": {
    "collapsed": false,
    "pycharm": {
     "name": "#%%\n"
    }
   }
  },
  {
   "cell_type": "code",
   "execution_count": 130,
   "outputs": [
    {
     "name": "stdout",
     "output_type": "stream",
     "text": [
      "Model: \"sequential\"\n",
      "_________________________________________________________________\n",
      " Layer (type)                Output Shape              Param #   \n",
      "=================================================================\n",
      " lstm (LSTM)                 (None, 60, 100)           40800     \n",
      "                                                                 \n",
      " lstm_1 (LSTM)               (None, 100)               80400     \n",
      "                                                                 \n",
      " dense (Dense)               (None, 25)                2525      \n",
      "                                                                 \n",
      " dense_1 (Dense)             (None, 1)                 26        \n",
      "                                                                 \n",
      "=================================================================\n",
      "Total params: 123,751\n",
      "Trainable params: 123,751\n",
      "Non-trainable params: 0\n",
      "_________________________________________________________________\n"
     ]
    }
   ],
   "source": [
    "model = keras.Sequential()\n",
    "model.add(layers.LSTM(100, return_sequences=True, input_shape=(x_train.shape[1], 1)))\n",
    "model.add(layers.LSTM(100, return_sequences=False))\n",
    "model.add(layers.Dense(25))\n",
    "model.add(layers.Dense(1))\n",
    "model.summary()"
   ],
   "metadata": {
    "collapsed": false,
    "pycharm": {
     "name": "#%%\n"
    }
   }
  },
  {
   "cell_type": "code",
   "execution_count": 132,
   "outputs": [
    {
     "name": "stdout",
     "output_type": "stream",
     "text": [
      "Epoch 1/3\n",
      "323488/323488 [==============================] - 2912s 9ms/step - loss: 11.2994\n",
      "Epoch 2/3\n",
      "323488/323488 [==============================] - 9973s 31ms/step - loss: 9.4546\n",
      "Epoch 3/3\n",
      "323488/323488 [==============================] - 4132s 13ms/step - loss: 8.4213\n"
     ]
    },
    {
     "data": {
      "text/plain": "<keras.callbacks.History at 0x535a6ca60>"
     },
     "execution_count": 132,
     "metadata": {},
     "output_type": "execute_result"
    }
   ],
   "source": [
    "model.compile(optimizer='adam', loss='mean_absolute_percentage_error')  ### \n",
    "model.fit(x_train, y_train, batch_size=1, epochs=3)"
   ],
   "metadata": {
    "collapsed": false,
    "pycharm": {
     "name": "#%%\n"
    }
   }
  },
  {
   "cell_type": "markdown",
   "source": [
    "Here is my Pycharm IDE decided to forget what \"model\" and other variables are. So, I would have to re-run whole notebook again... Pls mind that LSTM learning takes approximately 3 hour of life, anyway we already got only 11.2994, 9.4546, 8.4213 losses, which is pretty decent if you ask me."
   ],
   "metadata": {
    "collapsed": false,
    "pycharm": {
     "name": "#%% md\n"
    }
   }
  },
  {
   "cell_type": "code",
   "execution_count": null,
   "outputs": [],
   "source": [
    "scaler = MinMaxScaler(feature_range=(0,1))\n",
    "scaled_data = scaler.fit_transform(values.reshape(-1,1))\n",
    "train_data = scaled_data[0: training_data_len, :]\n",
    "\n",
    "\n",
    "\n",
    "predictions = model.predict(x_test)\n",
    "predictions = scaler.inverse_transform(predictions)"
   ],
   "metadata": {
    "collapsed": false,
    "pycharm": {
     "name": "#%%\n",
     "is_executing": true
    }
   }
  },
  {
   "cell_type": "code",
   "execution_count": null,
   "outputs": [],
   "source": [
    "from sklearn.metrics import mean_absolute_percentage_error\n",
    "print(f'MAPE: {mean_absolute_percentage_error(y_test, predictions)}')"
   ],
   "metadata": {
    "collapsed": false,
    "pycharm": {
     "name": "#%%\n",
     "is_executing": true
    }
   }
  },
  {
   "cell_type": "code",
   "execution_count": null,
   "outputs": [],
   "source": [
    "data = df_AAPL.filter(['Close'])\n",
    "train = data[:training_data_len]\n",
    "validation = data[training_data_len:]\n",
    "validation['Predictions'] = predictions\n",
    "\n",
    "plt.figure(figsize=(16, 8))\n",
    "plt.title('Model')\n",
    "plt.xlabel('Date')\n",
    "plt.ylabel('Close Price USD ($)')\n",
    "plt.plot(train)\n",
    "plt.plot(validation[['Close', 'Predictions']])\n",
    "plt.legend(['Train', 'Val', 'Predictions'], loc='lower right')\n",
    "plt.show()"
   ],
   "metadata": {
    "collapsed": false,
    "pycharm": {
     "name": "#%%\n"
    }
   }
  },
  {
   "cell_type": "code",
   "execution_count": null,
   "outputs": [],
   "source": [],
   "metadata": {
    "collapsed": false,
    "pycharm": {
     "name": "#%%\n"
    }
   }
  }
 ],
 "metadata": {
  "kernelspec": {
   "display_name": "Python 3",
   "language": "python",
   "name": "python3"
  },
  "language_info": {
   "codemirror_mode": {
    "name": "ipython",
    "version": 2
   },
   "file_extension": ".py",
   "mimetype": "text/x-python",
   "name": "python",
   "nbconvert_exporter": "python",
   "pygments_lexer": "ipython2",
   "version": "2.7.6"
  }
 },
 "nbformat": 4,
 "nbformat_minor": 0
}
